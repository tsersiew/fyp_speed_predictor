{
 "cells": [
  {
   "cell_type": "code",
   "execution_count": 1,
   "metadata": {},
   "outputs": [],
   "source": [
    "# Dependencies\n",
    "import pandas as pd\n",
    "from scipy.io import loadmat\n",
    "import glob\n",
    "import matplotlib.pyplot as plt\n",
    "from keras.models import Sequential, load_model\n",
    "from keras.layers import LSTM,Dropout,Dense \n",
    "from sklearn.preprocessing import MinMaxScaler\n",
    "from torch.utils.data import Dataset, DataLoader\n",
    "import os\n",
    "import numpy as np\n",
    "from tqdm import tqdm\n",
    "import torch\n",
    "import torch.nn as nn\n",
    "import torch.nn.functional as F\n"
   ]
  },
  {
   "cell_type": "markdown",
   "metadata": {},
   "source": [
    "## Step 1: Load the data.\n",
    "Class has 3 elements\n",
    "- An ```__init__``` function that sets up your class and all the necessary parameters.\n",
    "- An ```__len__``` function that returns the size of your dataset.\n",
    "- An ```__getitem__``` function that given an index within the limits of the size of the dataset returns the associated image and label in tensor form."
   ]
  },
  {
   "cell_type": "code",
   "execution_count": 11,
   "metadata": {},
   "outputs": [],
   "source": [
    "# folder names\n",
    "dc_folders = ['Europe', 'Japan', 'USA']\n",
    "\n",
    "# Implement the dataset class\n",
    "class DrivingCyclesDataset(Dataset):\n",
    "    def __init__(self,\n",
    "                 path_to_dc,\n",
    "                 idxs_train,\n",
    "                 idxs_test,\n",
    "                 train=True):\n",
    "        # path_to_dc: where you put the driving cycles dataset\n",
    "        # idxs_train: training set indexes\n",
    "        # idxs_test: test set indexes\n",
    "        # train: return training set or test set\n",
    "        \n",
    "        # Load all the driving cycles\n",
    "        alldata = []\n",
    "        dcnames = []\n",
    "        mat = loadmat('./DrivingCycles/WLTPextended.mat')\n",
    "        df = pd.DataFrame(mat['V_z'], columns = ['V_z']) # velocity \n",
    "        df2 = pd.DataFrame(mat['T_z'], columns = ['T_z']) # time\n",
    "        df3 = pd.DataFrame(mat['D_z'], columns = ['D_z']) # acceleration\n",
    "        df = pd.concat([df, df2, df3], axis=1)\n",
    "        alldata.append(df)\n",
    "        dcnames.append('WLTPextended.mat')\n",
    "        for folder in dc_folders:\n",
    "            image_path = os.path.join(path_to_dc, folder)\n",
    "            files = glob.glob(image_path + '/*.mat')\n",
    "            for f in files:\n",
    "                mat = loadmat(f)\n",
    "                df = pd.DataFrame(mat['V_z'], columns = ['V_z'])\n",
    "                df2 = pd.DataFrame(mat['T_z'], columns = ['T_z'])\n",
    "                df3 = pd.DataFrame(mat['D_z'], columns = ['D_z'])\n",
    "                df = pd.concat([df, df2, df3], axis=1)\n",
    "                dcnames.append(os.path.basename(f))\n",
    "                # each dataframe is a driving cycle \n",
    "                alldata.append(df)\n",
    "\n",
    "        # Extract the driving cycles with the specified file indexes     \n",
    "        alldata_np = (np.array(alldata, dtype=object))[p] #numpy array of dataframes \n",
    "        dcnames_np = (np.array(dcnames, dtype=object))[p]\n",
    "        if train==True:\n",
    "            self.data = np.concatenate([alldata_np[:idxs_test], alldata_np[idxs_test+1:]])\n",
    "            self.names = np.concatenate([dcnames_np[:idxs_test], dcnames_np[idxs_test+1:]])\n",
    "        else:\n",
    "            self.data = alldata_np[idxs_test:idxs_test+1]\n",
    "            self.names = dcnames_np[idxs_test:idxs_test+1]\n",
    "\n",
    "\n",
    "    def __len__(self, idx):\n",
    "        # Return the number of samples in a driving cycle \n",
    "        return (self.data[idx]).size\n",
    "        \n",
    "    def __getitem__(self, idx):\n",
    "        # Get an item using its index\n",
    "        # Return the driving cycle and its name \n",
    "        return self.data[idx]"
   ]
  },
  {
   "cell_type": "code",
   "execution_count": 12,
   "metadata": {},
   "outputs": [],
   "source": [
    "def split_train_test(lendata, percentage=0.8):\n",
    "    idxs_train = int(percentage * lendata)\n",
    "    idxs_test = idxs_train + 1 \n",
    "    return idxs_train, idxs_test\n",
    "\n",
    "LENDATA = 36 + 6 + 4 + 1 # number of driving cycles = 47\n",
    "np.random.seed(42)\n",
    "idxs_train, idxs_test = split_train_test(LENDATA,0.8)\n",
    "idxs_test = 22 # only 1 test driving cycle for easier visualisation\n",
    "p = np.random.permutation(int(LENDATA))"
   ]
  },
  {
   "cell_type": "code",
   "execution_count": 13,
   "metadata": {},
   "outputs": [],
   "source": [
    "def create_dataset(dataset, h, f, step):\n",
    "    x = [] #append the last 50 values\n",
    "    y = [] #append the future value \n",
    "    for df in dataset:\n",
    "        features_considered = ['V_z', 'D_z']\n",
    "        features = df[features_considered]\n",
    "        for i in range(h, df.shape[0]):\n",
    "            # for each driving cycle dataframe, have sets of 51 values \n",
    "            # h values are past values, f values are future value \n",
    "            x.append(features[i-h:i:step])\n",
    "            # y.append(df.loc[i:i+f, \"V_z\"])\n",
    "            y.append(df.loc[i, \"V_z\"])\n",
    "    x = np.array(x) \n",
    "    y = np.array(y)  \n",
    "    # y = np.asarray(y).astype(np.float32)\n",
    "    return x,y"
   ]
  },
  {
   "cell_type": "markdown",
   "metadata": {},
   "source": [
    "## Step 2: Explore the data. (15 Points)\n",
    "\n",
    "### Step 2.1: Data visualisation. (5 points)\n",
    "\n",
    "- Plot data distribution, i.e. the number of samples per class.\n",
    "- Plot 1 sample from each of the five classes in the training set."
   ]
  },
  {
   "cell_type": "code",
   "execution_count": 19,
   "metadata": {},
   "outputs": [
    {
     "data": {
      "image/png": "[encoded data removed]",
      "text/plain": [
       "<Figure size 432x288 with 1 Axes>"
      ]
     },
     "metadata": {
      "needs_background": "light"
     },
     "output_type": "display_data"
    }
   ],
   "source": [
    "# loading datasets\n",
    "dc_path = './DrivingCycles/'\n",
    "dataset_train  = DrivingCyclesDataset(dc_path, idxs_train, idxs_test, train=True)\n",
    "dataset_test = DrivingCyclesDataset(dc_path, idxs_train, idxs_test, train=False)\n",
    "\n",
    "# # Plot samples from the test set\n",
    "# # Europe NEDC \n",
    "# sample_data = dataset_train.data[26]\n",
    "# sample_name = dataset_train.names[26]\n",
    "# print(sample_data.describe())\n",
    "# plt.title(sample_name + \" Driving Cycle\")\n",
    "# plt.xlabel(\"Time (s)\")\n",
    "# plt.ylabel(\"Velocity (m/s)\")\n",
    "# plt.plot(sample_data['T_z'], sample_data['V_z'])\n",
    "# plt.show()\n",
    "\n",
    "# # Europe WLTP \n",
    "# sample_data = dataset_train.data[37]\n",
    "# sample_name = dataset_train.names[37]\n",
    "# print(sample_data.describe())\n",
    "# plt.title(sample_name + \" Driving Cycle\")\n",
    "# plt.xlabel(\"Time (s)\")\n",
    "# plt.ylabel(\"Velocity (m/s)\")\n",
    "# plt.plot(sample_data['T_z'], sample_data['V_z'])\n",
    "# plt.show()\n",
    "\n",
    "# # Japan 10 Mode \n",
    "# sample_data = dataset_train.data[30]\n",
    "# sample_name = dataset_train.names[30]\n",
    "# print(sample_data.describe())\n",
    "# plt.title(sample_name + \" Driving Cycle\")\n",
    "# plt.xlabel(\"Time (s)\")\n",
    "# plt.ylabel(\"Velocity (m/s)\")\n",
    "# plt.plot(sample_data['T_z'], sample_data['V_z'])\n",
    "# plt.show()\n",
    "\n",
    "# # US FTP_75 \n",
    "# sample_data = dataset_train.data[17]\n",
    "# sample_name = dataset_train.names[17]\n",
    "# print(sample_data.describe())\n",
    "# plt.title(sample_name + \" Driving Cycle\")\n",
    "# plt.xlabel(\"Time (s)\")\n",
    "# plt.ylabel(\"Velocity (m/s)\")\n",
    "# plt.plot(sample_data['T_z'], sample_data['V_z'])\n",
    "# plt.show()\n",
    "\n",
    "# Plot 1 sample from the test set\n",
    "sample_data = dataset_test.data[0]\n",
    "sample_name = dataset_test.names[0]\n",
    "plt.title(sample_name + \" Driving Cycle\")\n",
    "plt.xlabel(\"Time (s)\")\n",
    "plt.ylabel(\"Velocity (m/s)\")\n",
    "plt.plot(sample_data['T_z'], sample_data['V_z'])\n",
    "plt.show()\n",
    "\n",
    "# scaling the datasets \n",
    "scaler = MinMaxScaler(feature_range=(0,1))\n",
    "for df in dataset_train: \n",
    "    df['V_z'] = scaler.fit_transform(df[['V_z']])\n",
    "    df['D_z'] = scaler.fit_transform(df[['D_z']])\n",
    "for df in dataset_test: \n",
    "    df['V_z'] = scaler.fit_transform(df[['V_z']])\n",
    "    df['D_z'] = scaler.fit_transform(df[['D_z']])\n",
    "\n",
    "# parameters h and f\n",
    "h = 10 # length of historical sequence\n",
    "f = 10 # length of forecast sequence \n",
    "step = 1\n",
    "\n",
    "# create training set and test set \n",
    "x_train, y_train = create_dataset(dataset_train, h, f, step)\n",
    "x_test, y_test = create_dataset(dataset_test, h, f, step)\n",
    "\n",
    "# reshaping input to LSTM model \n",
    "x_train = np.reshape(x_train, (x_train.shape[0], x_train.shape[1], x_train.shape[2]))\n",
    "x_test = np.reshape(x_test, (x_test.shape[0], x_test.shape[1], x_test.shape[2]))\n",
    "\n",
    "# reshaping output \n",
    "# y_train = np.expand_dims(y_train, -1)\n",
    "# y_test = np.expand_dims(y_test, -1)\n",
    "# y_train = np.asarray(y_train).astype(np.float32)\n",
    "# y_test = np.asarray(y_train).astype(np.float32)"
   ]
  },
  {
   "cell_type": "markdown",
   "metadata": {},
   "source": [
    "## Step 3: LSTM\n",
    "In this section we will try to make a LSTM predictor to predict the future velocity. \n",
    "\n",
    "### Step 3.1: Define the model. (15 points)\n",
    "\n",
    "Design a neural network which consists of a number of convolutional layers and a few fully connected ones at the end.\n",
    "\n",
    "The exact architecture is up to you but you do NOT need to create something complicated. For example, you could design a LeNet insprired network."
   ]
  },
  {
   "cell_type": "code",
   "execution_count": 20,
   "metadata": {},
   "outputs": [
    {
     "name": "stdout",
     "output_type": "stream",
     "text": [
      "(134407, 10, 2)\n",
      "(491,)\n"
     ]
    }
   ],
   "source": [
    "# check\n",
    "print(x_train.shape)\n",
    "print(y_test.shape)\n",
    "\n",
    "# Network \n",
    "model = Sequential()\n",
    "model.add(LSTM(units=100, return_sequences=True, input_shape=(x_train.shape[1], x_train.shape[2]))) # units depends on create_dataset function\n",
    "model.add(Dropout(0.2))\n",
    "model.add(LSTM(units=100,return_sequences=True))\n",
    "model.add(Dropout(0.2))\n",
    "model.add(LSTM(units=100,return_sequences=True))\n",
    "model.add(Dropout(0.2))\n",
    "model.add(LSTM(units=100))\n",
    "model.add(Dropout(0.2))\n",
    "model.add(Dense(units=f))"
   ]
  },
  {
   "cell_type": "markdown",
   "metadata": {},
   "source": [
    "### Step 3.2: Define the training parameters. (10 points)\n",
    "\n",
    "- Loss function\n",
    "- Optimizer\n",
    "- Learning Rate\n",
    "- Number of iterations\n",
    "- Batch Size\n",
    "- Other relevant hyperparameters"
   ]
  },
  {
   "cell_type": "code",
   "execution_count": 21,
   "metadata": {},
   "outputs": [],
   "source": [
    "# compile the model \n",
    "model.compile(loss='mse', optimizer='adam')"
   ]
  },
  {
   "cell_type": "markdown",
   "metadata": {},
   "source": [
    "### Step 3.3: Train the model. (15 points)\n",
    "\n",
    "Complete the training loop."
   ]
  },
  {
   "cell_type": "code",
   "execution_count": 22,
   "metadata": {},
   "outputs": [
    {
     "name": "stdout",
     "output_type": "stream",
     "text": [
      "Epoch 1/10\n",
      " 276/2689 [==>...........................] - ETA: 3:09 - loss: 0.0162"
     ]
    }
   ],
   "source": [
    "model.fit(x_train, y_train, epochs=10, batch_size=50)\n",
    "model.save('speed_prediction.h5')\n",
    "\n",
    "# load the model \n",
    "model = load_model('speed_prediction.h5') "
   ]
  },
  {
   "cell_type": "markdown",
   "metadata": {},
   "source": [
    "### Step 3.4: Deploy the trained model onto the test set. "
   ]
  },
  {
   "cell_type": "code",
   "execution_count": 10,
   "metadata": {},
   "outputs": [
    {
     "ename": "ValueError",
     "evalue": "setting an array element with a sequence.",
     "output_type": "error",
     "traceback": [
      "\u001b[0;31m---------------------------------------------------------------------------\u001b[0m",
      "\u001b[0;31mTypeError\u001b[0m                                 Traceback (most recent call last)",
      "\u001b[0;32m/usr/local/lib/python3.9/site-packages/pandas/core/series.py\u001b[0m in \u001b[0;36mwrapper\u001b[0;34m(self)\u001b[0m\n\u001b[1;32m    190\u001b[0m             \u001b[0;32mreturn\u001b[0m \u001b[0mconverter\u001b[0m\u001b[0;34m(\u001b[0m\u001b[0mself\u001b[0m\u001b[0;34m.\u001b[0m\u001b[0miloc\u001b[0m\u001b[0;34m[\u001b[0m\u001b[0;36m0\u001b[0m\u001b[0;34m]\u001b[0m\u001b[0;34m)\u001b[0m\u001b[0;34m\u001b[0m\u001b[0;34m\u001b[0m\u001b[0m\n\u001b[0;32m--> 191\u001b[0;31m         \u001b[0;32mraise\u001b[0m \u001b[0mTypeError\u001b[0m\u001b[0;34m(\u001b[0m\u001b[0;34mf\"cannot convert the series to {converter}\"\u001b[0m\u001b[0;34m)\u001b[0m\u001b[0;34m\u001b[0m\u001b[0;34m\u001b[0m\u001b[0m\n\u001b[0m\u001b[1;32m    192\u001b[0m \u001b[0;34m\u001b[0m\u001b[0m\n",
      "\u001b[0;31mTypeError\u001b[0m: cannot convert the series to <class 'float'>",
      "\nThe above exception was the direct cause of the following exception:\n",
      "\u001b[0;31mValueError\u001b[0m                                Traceback (most recent call last)",
      "\u001b[0;32m/var/folders/cw/bwljv91s2pq0yk6ckv58m7f40000gn/T/ipykernel_65229/294606908.py\u001b[0m in \u001b[0;36m<module>\u001b[0;34m\u001b[0m\n\u001b[1;32m      1\u001b[0m \u001b[0mpredictions\u001b[0m \u001b[0;34m=\u001b[0m \u001b[0mmodel\u001b[0m\u001b[0;34m.\u001b[0m\u001b[0mpredict\u001b[0m\u001b[0;34m(\u001b[0m\u001b[0mx_test\u001b[0m\u001b[0;34m)\u001b[0m\u001b[0;34m\u001b[0m\u001b[0;34m\u001b[0m\u001b[0m\n\u001b[1;32m      2\u001b[0m \u001b[0mpredictions\u001b[0m \u001b[0;34m=\u001b[0m \u001b[0mscaler\u001b[0m\u001b[0;34m.\u001b[0m\u001b[0minverse_transform\u001b[0m\u001b[0;34m(\u001b[0m\u001b[0mpredictions\u001b[0m\u001b[0;34m)\u001b[0m\u001b[0;34m\u001b[0m\u001b[0;34m\u001b[0m\u001b[0m\n\u001b[0;32m----> 3\u001b[0;31m \u001b[0my_test_scaled\u001b[0m \u001b[0;34m=\u001b[0m \u001b[0mscaler\u001b[0m\u001b[0;34m.\u001b[0m\u001b[0minverse_transform\u001b[0m\u001b[0;34m(\u001b[0m\u001b[0my_test\u001b[0m\u001b[0;34m.\u001b[0m\u001b[0mreshape\u001b[0m\u001b[0;34m(\u001b[0m\u001b[0;34m-\u001b[0m\u001b[0;36m1\u001b[0m\u001b[0;34m,\u001b[0m\u001b[0;36m1\u001b[0m\u001b[0;34m)\u001b[0m\u001b[0;34m)\u001b[0m\u001b[0;34m\u001b[0m\u001b[0;34m\u001b[0m\u001b[0m\n\u001b[0m\u001b[1;32m      4\u001b[0m \u001b[0mprint\u001b[0m\u001b[0;34m(\u001b[0m\u001b[0my_test_scaled\u001b[0m\u001b[0;34m.\u001b[0m\u001b[0mshape\u001b[0m\u001b[0;34m)\u001b[0m\u001b[0;34m\u001b[0m\u001b[0;34m\u001b[0m\u001b[0m\n\u001b[1;32m      5\u001b[0m \u001b[0mprint\u001b[0m\u001b[0;34m(\u001b[0m\u001b[0mpredictions\u001b[0m\u001b[0;34m.\u001b[0m\u001b[0mshape\u001b[0m\u001b[0;34m)\u001b[0m\u001b[0;34m\u001b[0m\u001b[0;34m\u001b[0m\u001b[0m\n",
      "\u001b[0;32m/usr/local/lib/python3.9/site-packages/sklearn/preprocessing/_data.py\u001b[0m in \u001b[0;36minverse_transform\u001b[0;34m(self, X)\u001b[0m\n\u001b[1;32m    523\u001b[0m         \u001b[0mcheck_is_fitted\u001b[0m\u001b[0;34m(\u001b[0m\u001b[0mself\u001b[0m\u001b[0;34m)\u001b[0m\u001b[0;34m\u001b[0m\u001b[0;34m\u001b[0m\u001b[0m\n\u001b[1;32m    524\u001b[0m \u001b[0;34m\u001b[0m\u001b[0m\n\u001b[0;32m--> 525\u001b[0;31m         X = check_array(\n\u001b[0m\u001b[1;32m    526\u001b[0m             \u001b[0mX\u001b[0m\u001b[0;34m,\u001b[0m \u001b[0mcopy\u001b[0m\u001b[0;34m=\u001b[0m\u001b[0mself\u001b[0m\u001b[0;34m.\u001b[0m\u001b[0mcopy\u001b[0m\u001b[0;34m,\u001b[0m \u001b[0mdtype\u001b[0m\u001b[0;34m=\u001b[0m\u001b[0mFLOAT_DTYPES\u001b[0m\u001b[0;34m,\u001b[0m \u001b[0mforce_all_finite\u001b[0m\u001b[0;34m=\u001b[0m\u001b[0;34m\"allow-nan\"\u001b[0m\u001b[0;34m\u001b[0m\u001b[0;34m\u001b[0m\u001b[0m\n\u001b[1;32m    527\u001b[0m         )\n",
      "\u001b[0;32m/usr/local/lib/python3.9/site-packages/sklearn/utils/validation.py\u001b[0m in \u001b[0;36mcheck_array\u001b[0;34m(array, accept_sparse, accept_large_sparse, dtype, order, copy, force_all_finite, ensure_2d, allow_nd, ensure_min_samples, ensure_min_features, estimator)\u001b[0m\n\u001b[1;32m    744\u001b[0m                     \u001b[0marray\u001b[0m \u001b[0;34m=\u001b[0m \u001b[0marray\u001b[0m\u001b[0;34m.\u001b[0m\u001b[0mastype\u001b[0m\u001b[0;34m(\u001b[0m\u001b[0mdtype\u001b[0m\u001b[0;34m,\u001b[0m \u001b[0mcasting\u001b[0m\u001b[0;34m=\u001b[0m\u001b[0;34m\"unsafe\"\u001b[0m\u001b[0;34m,\u001b[0m \u001b[0mcopy\u001b[0m\u001b[0;34m=\u001b[0m\u001b[0;32mFalse\u001b[0m\u001b[0;34m)\u001b[0m\u001b[0;34m\u001b[0m\u001b[0;34m\u001b[0m\u001b[0m\n\u001b[1;32m    745\u001b[0m                 \u001b[0;32melse\u001b[0m\u001b[0;34m:\u001b[0m\u001b[0;34m\u001b[0m\u001b[0;34m\u001b[0m\u001b[0m\n\u001b[0;32m--> 746\u001b[0;31m                     \u001b[0marray\u001b[0m \u001b[0;34m=\u001b[0m \u001b[0mnp\u001b[0m\u001b[0;34m.\u001b[0m\u001b[0masarray\u001b[0m\u001b[0;34m(\u001b[0m\u001b[0marray\u001b[0m\u001b[0;34m,\u001b[0m \u001b[0morder\u001b[0m\u001b[0;34m=\u001b[0m\u001b[0morder\u001b[0m\u001b[0;34m,\u001b[0m \u001b[0mdtype\u001b[0m\u001b[0;34m=\u001b[0m\u001b[0mdtype\u001b[0m\u001b[0;34m)\u001b[0m\u001b[0;34m\u001b[0m\u001b[0;34m\u001b[0m\u001b[0m\n\u001b[0m\u001b[1;32m    747\u001b[0m             \u001b[0;32mexcept\u001b[0m \u001b[0mComplexWarning\u001b[0m \u001b[0;32mas\u001b[0m \u001b[0mcomplex_warning\u001b[0m\u001b[0;34m:\u001b[0m\u001b[0;34m\u001b[0m\u001b[0;34m\u001b[0m\u001b[0m\n\u001b[1;32m    748\u001b[0m                 raise ValueError(\n",
      "\u001b[0;31mValueError\u001b[0m: setting an array element with a sequence."
     ]
    }
   ],
   "source": [
    "predictions = model.predict(x_test)\n",
    "predictions = scaler.inverse_transform(predictions)\n",
    "y_test_scaled = scaler.inverse_transform(y_test.reshape(-1,1))\n",
    "print(y_test_scaled.shape)\n",
    "print(predictions.shape)"
   ]
  },
  {
   "cell_type": "markdown",
   "metadata": {},
   "source": [
    "### Step 3.5: Evaluate the performance of the model and visualize the confusion matrix. (5 points)\n",
    "\n",
    "You can use sklearns related function."
   ]
  },
  {
   "cell_type": "code",
   "execution_count": 34,
   "metadata": {},
   "outputs": [
    {
     "data": {
      "text/plain": [
       "Text(0, 0.5, 'Time (s)')"
      ]
     },
     "execution_count": 34,
     "metadata": {},
     "output_type": "execute_result"
    },
    {
     "data": {
      "image/png": "[encoded data removed]",
      "text/plain": [
       "<Figure size 1152x576 with 1 Axes>"
      ]
     },
     "metadata": {
      "needs_background": "light"
     },
     "output_type": "display_data"
    }
   ],
   "source": [
    "fig, ax = plt.subplots(figsize=(16,8))\n",
    "ax.plot(y_test_scaled, label='Actual velocity')\n",
    "plt.plot(predictions[4], label='Predicted velocity')\n",
    "plt.legend()\n",
    "plt.title('Visualisation of predicted future velocity profile')\n",
    "plt.xlabel(\"Velocity (m/s)\")\n",
    "plt.ylabel(\"Time (s)\")"
   ]
  }
 ],
 "metadata": {
  "interpreter": {
   "hash": "aee8b7b246df8f9039afb4144a1f6fd8d2ca17a180786b69acc140d282b71a49"
  },
  "kernelspec": {
   "display_name": "Python 3.9.6 64-bit",
   "language": "python",
   "name": "python3"
  },
  "language_info": {
   "codemirror_mode": {
    "name": "ipython",
    "version": 3
   },
   "file_extension": ".py",
   "mimetype": "text/x-python",
   "name": "python",
   "nbconvert_exporter": "python",
   "pygments_lexer": "ipython3",
   "version": "3.9.6"
  },
  "orig_nbformat": 4
 },
 "nbformat": 4,
 "nbformat_minor": 2
}
