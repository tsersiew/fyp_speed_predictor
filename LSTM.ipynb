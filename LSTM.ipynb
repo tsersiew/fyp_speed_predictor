{
 "cells": [
  {
   "cell_type": "code",
   "execution_count": 82,
   "metadata": {},
   "outputs": [
    {
     "ename": "ImportError",
     "evalue": "cannot import name 'Adam' from 'keras.optimizers' (/usr/local/lib/python3.9/site-packages/keras/optimizers.py)",
     "output_type": "error",
     "traceback": [
      "\u001b[0;31m---------------------------------------------------------------------------\u001b[0m",
      "\u001b[0;31mImportError\u001b[0m                               Traceback (most recent call last)",
      "\u001b[0;32m/var/folders/cw/bwljv91s2pq0yk6ckv58m7f40000gn/T/ipykernel_16269/281266544.py\u001b[0m in \u001b[0;36m<module>\u001b[0;34m\u001b[0m\n\u001b[1;32m     13\u001b[0m \u001b[0;32mimport\u001b[0m \u001b[0mtensorflow\u001b[0m \u001b[0;32mas\u001b[0m \u001b[0mtf\u001b[0m\u001b[0;34m\u001b[0m\u001b[0;34m\u001b[0m\u001b[0m\n\u001b[1;32m     14\u001b[0m \u001b[0;34m\u001b[0m\u001b[0m\n\u001b[0;32m---> 15\u001b[0;31m \u001b[0;32mfrom\u001b[0m \u001b[0mkeras\u001b[0m\u001b[0;34m.\u001b[0m\u001b[0moptimizers\u001b[0m \u001b[0;32mimport\u001b[0m \u001b[0mAdam\u001b[0m\u001b[0;34m,\u001b[0m \u001b[0mSGD\u001b[0m\u001b[0;34m,\u001b[0m \u001b[0mRMSprop\u001b[0m\u001b[0;34m,\u001b[0m \u001b[0mAdadelta\u001b[0m\u001b[0;34m,\u001b[0m \u001b[0mAdagrad\u001b[0m\u001b[0;34m,\u001b[0m \u001b[0mAdamax\u001b[0m\u001b[0;34m,\u001b[0m \u001b[0mNadam\u001b[0m\u001b[0;34m,\u001b[0m \u001b[0mFtrl\u001b[0m\u001b[0;34m\u001b[0m\u001b[0;34m\u001b[0m\u001b[0m\n\u001b[0m\u001b[1;32m     16\u001b[0m \u001b[0;32mfrom\u001b[0m \u001b[0mkeras\u001b[0m\u001b[0;34m.\u001b[0m\u001b[0mcallbacks\u001b[0m \u001b[0;32mimport\u001b[0m \u001b[0mEarlyStopping\u001b[0m\u001b[0;34m,\u001b[0m \u001b[0mModelCheckpoint\u001b[0m\u001b[0;34m\u001b[0m\u001b[0;34m\u001b[0m\u001b[0m\n\u001b[1;32m     17\u001b[0m \u001b[0;32mfrom\u001b[0m \u001b[0msklearn\u001b[0m\u001b[0;34m.\u001b[0m\u001b[0mmetrics\u001b[0m \u001b[0;32mimport\u001b[0m \u001b[0mmake_scorer\u001b[0m\u001b[0;34m,\u001b[0m \u001b[0mmean_squared_error\u001b[0m\u001b[0;34m\u001b[0m\u001b[0;34m\u001b[0m\u001b[0m\n",
      "\u001b[0;31mImportError\u001b[0m: cannot import name 'Adam' from 'keras.optimizers' (/usr/local/lib/python3.9/site-packages/keras/optimizers.py)"
     ]
    }
   ],
   "source": [
    "# Dependencies\n",
    "import pandas as pd\n",
    "from scipy.io import loadmat\n",
    "import glob\n",
    "import matplotlib.pyplot as plt\n",
    "from keras.models import Sequential, load_model\n",
    "from keras.layers import LSTM,Dropout,Dense \n",
    "from sklearn.preprocessing import MinMaxScaler\n",
    "from torch.utils.data import Dataset, DataLoader\n",
    "import os\n",
    "import numpy as np\n",
    "from tqdm import tqdm\n",
    "import tensorflow as tf\n"
   ]
  },
  {
   "cell_type": "markdown",
   "metadata": {},
   "source": [
    "## Step 1: Load the data.\n",
    "Class has 3 elements\n",
    "- An ```__init__``` function that sets up your class and all the necessary parameters.\n",
    "- An ```__len__``` function that returns the size of your dataset.\n",
    "- An ```__getitem__``` function that given an index within the limits of the size of the dataset returns the associated image and label in tensor form."
   ]
  },
  {
   "cell_type": "code",
   "execution_count": 2,
   "metadata": {},
   "outputs": [],
   "source": [
    "# folder names\n",
    "dc_folders = ['Europe', 'Japan', 'USA']\n",
    "\n",
    "# Implement the dataset class\n",
    "class DrivingCyclesDataset(Dataset):\n",
    "    def __init__(self,\n",
    "                 path_to_dc,\n",
    "                 train=True):\n",
    "        # path_to_dc: where you put the driving cycles dataset\n",
    "        # idxs_train: training set indexes\n",
    "        # idxs_test: test set indexes\n",
    "        # train: return training set or test set\n",
    "        \n",
    "        # Load all the driving cycles\n",
    "        alldata = []\n",
    "        dcnames = []\n",
    "        if (train == True):\n",
    "            mat = loadmat('./DrivingCycles/WLTPextended.mat')\n",
    "            df = pd.DataFrame(mat['V_z'], columns = ['V_z']) # velocity \n",
    "            df2 = pd.DataFrame(mat['T_z'], columns = ['T_z']) # time\n",
    "            df3 = pd.DataFrame(mat['D_z'], columns = ['D_z']) # acceleration\n",
    "            df = pd.concat([df, df2, df3], axis=1)\n",
    "            alldata.append(df)\n",
    "            dcnames.append('WLTPextended.mat')\n",
    "            for folder in dc_folders:\n",
    "                image_path = os.path.join(path_to_dc, folder)\n",
    "                files = glob.glob(image_path + '/*.mat')\n",
    "                for f in files:\n",
    "                    mat = loadmat(f)\n",
    "                    df = pd.DataFrame(mat['V_z'], columns = ['V_z'])\n",
    "                    df2 = pd.DataFrame(mat['T_z'], columns = ['T_z'])\n",
    "                    df3 = pd.DataFrame(mat['D_z'], columns = ['D_z'])\n",
    "                    df = pd.concat([df, df2, df3], axis=1)\n",
    "                    dcnames.append(os.path.basename(f))\n",
    "                    # each dataframe is a driving cycle \n",
    "                    alldata.append(df)\n",
    "            # Extract the driving cycles with the specified file indexes     \n",
    "            self.data = (np.array(alldata, dtype=object))[p] #numpy array of dataframes \n",
    "            self.names = (np.array(dcnames, dtype=object))[p]\n",
    "        \n",
    "        else:\n",
    "            image_path = os.path.join(path_to_dc, 'test')\n",
    "            files = glob.glob(image_path + '/*.mat')\n",
    "            for f in files:\n",
    "                mat = loadmat(f)\n",
    "                df = pd.DataFrame(mat['V_z'], columns = ['V_z'])\n",
    "                df2 = pd.DataFrame(mat['T_z'], columns = ['T_z'])\n",
    "                df3 = pd.DataFrame(mat['D_z'], columns = ['D_z'])\n",
    "                df = pd.concat([df, df2, df3], axis=1)\n",
    "                dcnames.append(os.path.basename(f))\n",
    "                # each dataframe is a driving cycle \n",
    "                alldata.append(df)\n",
    "\n",
    "            self.data = alldata\n",
    "            self.names = dcnames\n",
    "\n",
    "\n",
    "    def __len__(self, idx):\n",
    "        # Return the number of samples in a driving cycle \n",
    "        return (self.data[idx]).size\n",
    "        \n",
    "    def __getitem__(self, idx):\n",
    "        # Get an item using its index\n",
    "        # Return the driving cycle and its name \n",
    "        return self.data[idx]"
   ]
  },
  {
   "cell_type": "code",
   "execution_count": 3,
   "metadata": {},
   "outputs": [],
   "source": [
    "def split_train_test(lendata, percentage=0.8):\n",
    "    idxs_train = int(percentage * lendata)\n",
    "    idxs_test = idxs_train + 1 \n",
    "    return idxs_train, idxs_test\n",
    "\n",
    "LENDATA = 36 + 6 + 4 + 1 # number of driving cycles = 47\n",
    "np.random.seed(42)\n",
    "idxs_train, idxs_test = split_train_test(LENDATA,0.8)\n",
    "idxs_test = 22 # only 1 test driving cycle for easier visualisation\n",
    "p = np.random.permutation(int(LENDATA-1))"
   ]
  },
  {
   "cell_type": "code",
   "execution_count": 72,
   "metadata": {},
   "outputs": [],
   "source": [
    "def create_dataset(dataset, h, f, step, test):\n",
    "    x = [] #append the last 50 values\n",
    "    y = [] #append the future value \n",
    "    for df in dataset:\n",
    "        # features_considered = ['V_z', 'D_z']\n",
    "        features_considered = ['V_z']\n",
    "        features = df[features_considered]\n",
    "        for i in range(h, df.shape[0]-f):\n",
    "            # for each driving cycle dataframe, have sets of 51 values \n",
    "            # h values are past values, f values are future value \n",
    "            features['v_ave'] = df['V_z'][i-h:i].mean()\n",
    "            features['v_max'] = df['V_z'][i-h:i].max()\n",
    "            features['v_min'] = df['V_z'][i-h:i].min()\n",
    "            # features['a_ave'] = df['D_z'][i-h:i].mean()\n",
    "            x.append(features[i-h:i])\n",
    "            if (test == False):\n",
    "                y.append(df['V_z'][i:i+f])\n",
    "            else:\n",
    "                y.append(df['V_z'][i])\n",
    "    x = np.array(x) \n",
    "    y = np.array(y)  \n",
    "    # x = np.asarray(x).astype(np.float32)\n",
    "    return x,y"
   ]
  },
  {
   "cell_type": "markdown",
   "metadata": {},
   "source": [
    "## Step 2: Explore the data. (15 Points)\n",
    "\n",
    "### Step 2.1: Data visualisation. (5 points)\n",
    "\n",
    "- Plot data distribution, i.e. the number of samples per class.\n",
    "- Plot 1 sample from each of the five classes in the training set."
   ]
  },
  {
   "cell_type": "code",
   "execution_count": 73,
   "metadata": {},
   "outputs": [
    {
     "data": {
      "image/png": "[encoded data removed]",
      "text/plain": [
       "<Figure size 432x288 with 1 Axes>"
      ]
     },
     "metadata": {
      "needs_background": "light"
     },
     "output_type": "display_data"
    },
    {
     "name": "stdout",
     "output_type": "stream",
     "text": [
      "(133717, 20, 4)\n",
      "(476, 20, 4)\n"
     ]
    }
   ],
   "source": [
    "# loading datasets\n",
    "dc_path = './DrivingCycles/'\n",
    "dataset_train  = DrivingCyclesDataset(dc_path, train=True)\n",
    "dataset_test = DrivingCyclesDataset(dc_path, train=False)\n",
    "\n",
    "# # Plot samples from the test set\n",
    "# # Europe NEDC \n",
    "# sample_data = dataset_train.data[26]\n",
    "# sample_name = dataset_train.names[26]\n",
    "# print(sample_data.describe())\n",
    "# plt.title(sample_name + \" Driving Cycle\")\n",
    "# plt.xlabel(\"Time (s)\")\n",
    "# plt.ylabel(\"Velocity (m/s)\")\n",
    "# plt.plot(sample_data['T_z'], sample_data['V_z'])\n",
    "# plt.show()\n",
    "\n",
    "# # Europe WLTP \n",
    "# sample_data = dataset_train.data[37]\n",
    "# sample_name = dataset_train.names[37]\n",
    "# print(sample_data.describe())\n",
    "# plt.title(sample_name + \" Driving Cycle\")\n",
    "# plt.xlabel(\"Time (s)\")\n",
    "# plt.ylabel(\"Velocity (m/s)\")\n",
    "# plt.plot(sample_data['T_z'], sample_data['V_z'])\n",
    "# plt.show()\n",
    "\n",
    "# # Japan 10 Mode \n",
    "# sample_data = dataset_train.data[30]\n",
    "# sample_name = dataset_train.names[30]\n",
    "# print(sample_data.describe())\n",
    "# plt.title(sample_name + \" Driving Cycle\")\n",
    "# plt.xlabel(\"Time (s)\")\n",
    "# plt.ylabel(\"Velocity (m/s)\")\n",
    "# plt.plot(sample_data['T_z'], sample_data['V_z'])\n",
    "# plt.show()\n",
    "\n",
    "# # US FTP_75 \n",
    "# sample_data = dataset_train.data[17]\n",
    "# sample_name = dataset_train.names[17]\n",
    "# print(sample_data.describe())\n",
    "# plt.title(sample_name + \" Driving Cycle\")\n",
    "# plt.xlabel(\"Time (s)\")\n",
    "# plt.ylabel(\"Velocity (m/s)\")\n",
    "# plt.plot(sample_data['T_z'], sample_data['V_z'])\n",
    "# plt.show()\n",
    "\n",
    "# Plot 1 sample from the test set\n",
    "sample_data = dataset_test.data[0]\n",
    "sample_name = dataset_test.names[0]\n",
    "plt.title(sample_name + \" Driving Cycle\")\n",
    "plt.xlabel(\"Time (s)\")\n",
    "plt.ylabel(\"Velocity (m/s)\")\n",
    "plt.plot(sample_data['T_z'], sample_data['V_z'])\n",
    "plt.show()\n",
    "\n",
    "# scaling the datasets \n",
    "scaler = MinMaxScaler(feature_range=(0,1))\n",
    "for df in dataset_train: \n",
    "    df['V_z'] = scaler.fit_transform(df[['V_z']])\n",
    "    # df['D_z'] = scaler.fit_transform(df[['D_z']])\n",
    "for df in dataset_test: \n",
    "    df['V_z'] = scaler.fit_transform(df[['V_z']])\n",
    "    # df['D_z'] = scaler.fit_transform(df[['D_z']])\n",
    "\n",
    "# parameters h and f\n",
    "h = 20 # length of historical sequence\n",
    "f = 5 # length of forecast sequence \n",
    "step = 1\n",
    "\n",
    "# create training set and test set \n",
    "pd.options.mode.chained_assignment = None\n",
    "x_train, y_train = create_dataset(dataset_train, h, f, step, False)\n",
    "x_test, y_test = create_dataset(dataset_test, h, f, step, True)\n",
    "\n",
    "# check \n",
    "print(x_train.shape)\n",
    "print(x_test.shape)\n",
    "\n",
    "# reshaping input to LSTM model \n",
    "x_train = np.reshape(x_train, (x_train.shape[0], x_train.shape[1], x_train.shape[2]))\n",
    "x_test = np.reshape(x_test, (x_test.shape[0], x_test.shape[1], x_test.shape[2]))"
   ]
  },
  {
   "cell_type": "markdown",
   "metadata": {},
   "source": [
    "## Step 3: LSTM\n",
    "In this section we will try to make a LSTM predictor to predict the future velocity. \n",
    "\n",
    "### Step 3.1: Define the model. (15 points)\n",
    "\n",
    "Design a neural network which consists of a number of convolutional layers and a few fully connected ones at the end.\n",
    "\n",
    "The exact architecture is up to you but you do NOT need to create something complicated. For example, you could design a LeNet insprired network."
   ]
  },
  {
   "cell_type": "code",
   "execution_count": 74,
   "metadata": {},
   "outputs": [
    {
     "name": "stdout",
     "output_type": "stream",
     "text": [
      "(133717, 20, 4)\n",
      "(476, 20, 4)\n",
      "(133717, 5)\n",
      "(476,)\n",
      "<class 'numpy.ndarray'>\n",
      "<class 'numpy.ndarray'>\n",
      "Model: \"sequential_5\"\n",
      "_________________________________________________________________\n",
      " Layer (type)                Output Shape              Param #   \n",
      "=================================================================\n",
      " lstm_20 (LSTM)              (None, 20, 100)           42000     \n",
      "                                                                 \n",
      " dropout_20 (Dropout)        (None, 20, 100)           0         \n",
      "                                                                 \n",
      " lstm_21 (LSTM)              (None, 20, 100)           80400     \n",
      "                                                                 \n",
      " dropout_21 (Dropout)        (None, 20, 100)           0         \n",
      "                                                                 \n",
      " lstm_22 (LSTM)              (None, 20, 100)           80400     \n",
      "                                                                 \n",
      " dropout_22 (Dropout)        (None, 20, 100)           0         \n",
      "                                                                 \n",
      " lstm_23 (LSTM)              (None, 100)               80400     \n",
      "                                                                 \n",
      " dropout_23 (Dropout)        (None, 100)               0         \n",
      "                                                                 \n",
      " dense_5 (Dense)             (None, 5)                 505       \n",
      "                                                                 \n",
      "=================================================================\n",
      "Total params: 283,705\n",
      "Trainable params: 283,705\n",
      "Non-trainable params: 0\n",
      "_________________________________________________________________\n",
      "None\n"
     ]
    }
   ],
   "source": [
    "# check\n",
    "print(x_train.shape)\n",
    "print(x_test.shape)\n",
    "print(y_train.shape)\n",
    "print(y_test.shape)\n",
    "\n",
    "print(type(x_train))\n",
    "print(type(y_test))\n",
    "\n",
    "# Network \n",
    "model = Sequential()\n",
    "model.add(LSTM(units=100, return_sequences=True, input_shape=(x_train.shape[1], x_train.shape[2]))) # units depends on create_dataset function\n",
    "model.add(Dropout(0.2))\n",
    "model.add(LSTM(units=100,return_sequences=True))\n",
    "model.add(Dropout(0.2))\n",
    "model.add(LSTM(units=100,return_sequences=True))\n",
    "model.add(Dropout(0.2))\n",
    "model.add(LSTM(units=100))\n",
    "model.add(Dropout(0.2))\n",
    "model.add(Dense(units=f))\n",
    "\n",
    "print(model.summary())"
   ]
  },
  {
   "cell_type": "markdown",
   "metadata": {},
   "source": [
    "### Step 3.2: Define the training parameters. (10 points)\n",
    "\n",
    "- Loss function\n",
    "- Optimizer\n",
    "- Learning Rate\n",
    "- Number of iterations\n",
    "- Batch Size\n",
    "- Other relevant hyperparameters"
   ]
  },
  {
   "cell_type": "code",
   "execution_count": 75,
   "metadata": {},
   "outputs": [],
   "source": [
    "# compile the model \n",
    "model.compile(loss='mse', optimizer='adam')"
   ]
  },
  {
   "cell_type": "markdown",
   "metadata": {},
   "source": [
    "### Step 3.3: Train the model."
   ]
  },
  {
   "cell_type": "code",
   "execution_count": 76,
   "metadata": {},
   "outputs": [
    {
     "name": "stdout",
     "output_type": "stream",
     "text": [
      "Epoch 1/10\n",
      "2675/2675 [==============================] - 595s 208ms/step - loss: 0.0034\n",
      "Epoch 2/10\n",
      "2675/2675 [==============================] - 583s 218ms/step - loss: 0.0019\n",
      "Epoch 3/10\n",
      "2675/2675 [==============================] - 443s 166ms/step - loss: 0.0012\n",
      "Epoch 4/10\n",
      "2675/2675 [==============================] - 533s 199ms/step - loss: 9.3971e-04\n",
      "Epoch 5/10\n",
      "2675/2675 [==============================] - 537s 201ms/step - loss: 8.4698e-04\n",
      "Epoch 6/10\n",
      "2675/2675 [==============================] - 520s 195ms/step - loss: 7.8087e-04\n",
      "Epoch 7/10\n",
      "2675/2675 [==============================] - 486s 182ms/step - loss: 7.5295e-04\n",
      "Epoch 8/10\n",
      "2675/2675 [==============================] - 590s 221ms/step - loss: 7.2796e-04\n",
      "Epoch 9/10\n",
      "2675/2675 [==============================] - 653s 244ms/step - loss: 6.9929e-04\n",
      "Epoch 10/10\n",
      "2675/2675 [==============================] - 481s 180ms/step - loss: 6.8585e-04\n"
     ]
    }
   ],
   "source": [
    "model.fit(x_train, y_train, epochs=10, batch_size=50)\n",
    "model.save('speed_prediction 3.h5')\n",
    "\n",
    "# load the model \n",
    "model = load_model('speed_prediction 3.h5') "
   ]
  },
  {
   "cell_type": "markdown",
   "metadata": {},
   "source": [
    "### Step 3.4: Deploy the trained model onto the test set. "
   ]
  },
  {
   "cell_type": "code",
   "execution_count": 77,
   "metadata": {},
   "outputs": [
    {
     "name": "stdout",
     "output_type": "stream",
     "text": [
      "(476, 5)\n"
     ]
    }
   ],
   "source": [
    "predictions = model.predict(x_test)\n",
    "predictions = scaler.inverse_transform(predictions)\n",
    "\n",
    "# check\n",
    "print(predictions.shape)"
   ]
  },
  {
   "cell_type": "code",
   "execution_count": 78,
   "metadata": {},
   "outputs": [
    {
     "name": "stdout",
     "output_type": "stream",
     "text": [
      "(476, 1)\n"
     ]
    }
   ],
   "source": [
    "y_test_scaled = scaler.inverse_transform(y_test.reshape(-1,1))\n",
    "\n",
    "#check\n",
    "print(y_test_scaled.shape)"
   ]
  },
  {
   "cell_type": "markdown",
   "metadata": {},
   "source": [
    "### Step 3.5: Evaluate the performance of the model "
   ]
  },
  {
   "cell_type": "code",
   "execution_count": 79,
   "metadata": {},
   "outputs": [
    {
     "name": "stdout",
     "output_type": "stream",
     "text": [
      "4/4 [==============================] - 14s 164ms/step - loss: 3.0359e-04\n",
      "test loss:  0.0003035898844245821\n"
     ]
    }
   ],
   "source": [
    "results = model.evaluate(x_test, y_test, batch_size=128)\n",
    "print(\"test loss: \", results)"
   ]
  },
  {
   "cell_type": "markdown",
   "metadata": {},
   "source": [
    "### Step 3.6: Visualisation of prediction"
   ]
  },
  {
   "cell_type": "code",
   "execution_count": 80,
   "metadata": {},
   "outputs": [
    {
     "data": {
      "text/plain": [
       "Text(0, 0.5, 'Time (s)')"
      ]
     },
     "execution_count": 80,
     "metadata": {},
     "output_type": "execute_result"
    },
    {
     "data": {
      "image/png": "[encoded data removed]",
      "text/plain": [
       "<Figure size 1152x288 with 1 Axes>"
      ]
     },
     "metadata": {
      "needs_background": "light"
     },
     "output_type": "display_data"
    }
   ],
   "source": [
    "# Combination information\n",
    "combi = 4\n",
    "\n",
    "# plotting\n",
    "fig, ax = plt.subplots(figsize=(16,4))\n",
    "ax.plot(y_test_scaled)\n",
    "# plt.plot(predictions, color='red') \n",
    "for i in range(predictions.shape[0]): \n",
    "    plt.plot(range(i,i+f), predictions[i], color='red') \n",
    "plt.legend(['Actual velocity', 'Predicted velocity'])\n",
    "title = 'Predicted future velocity profile for h=' + str(h) + ' and f=' + str(f) + ' for combination ' + str(combi)\n",
    "plt.title(title)\n",
    "plt.xlabel(\"Velocity (m/s)\")\n",
    "plt.ylabel(\"Time (s)\")"
   ]
  },
  {
   "cell_type": "markdown",
   "metadata": {},
   "source": [
    "### Step 4: Hyperparameter Search"
   ]
  },
  {
   "cell_type": "markdown",
   "metadata": {},
   "source": [
    "#### Step 4.1: Early stopping"
   ]
  },
  {
   "cell_type": "code",
   "execution_count": null,
   "metadata": {},
   "outputs": [],
   "source": [
    "early_stopping = tf.keras.callbacks.EarlyStopping(monitor='val_loss', patience = 3, restore_best_weights=True)\n",
    "\n",
    "multi_step_history = model.fit(train_data_multi,\n",
    "                                epochs=EPOCHS,\n",
    "                                steps_per_epoch=EVALUATION_INTERVAL,\n",
    "                                validation_data=val_data_multi,\n",
    "                                validation_steps=EVALUATION_INTERVAL,\n",
    "                                callbacks=[early_stopping])"
   ]
  },
  {
   "cell_type": "markdown",
   "metadata": {},
   "source": [
    "#### Step 4.2: Grid search"
   ]
  },
  {
   "cell_type": "code",
   "execution_count": null,
   "metadata": {},
   "outputs": [],
   "source": [
    "from sklearn.model_selection import GridSearchCV\n",
    "\n",
    "# define search space \n",
    "space = dict()\n",
    "space['solver'] = ['svd', 'cholesky', 'lsqr', 'sag']\n",
    "space['alpha'] = [1e-5, 1e-4, 1e-3, 1e-2, 1e-1, 1, 10, 100]\n",
    "space['fit_intercept'] = [True, False]\n",
    "space['normalize'] = [True, False]\n",
    "\n",
    "# define search \n",
    "search = GridSearchCV(model, space, scoring='neg_mean_absolute_error', n_jobs=-1, cv=cv)\n",
    "\n",
    "# execute the search\n",
    "result = search.fit(X, y)\n",
    "\n",
    "# summarize result\n",
    "print('Best Score: %s' % result.best_score_)\n",
    "print('Best Hyperparameters: %s' % result.best_params_)\n",
    "\n",
    "header = ['nb_epoch', 'batch_size', 'learning_rate','RMSE_error']\n",
    "with open('output.csv', 'w') as csvfile:\n",
    "    csvwriter = csv.writer(csvfile)\n",
    "    csvwriter.writerow(header)\n",
    "\n",
    "param_dist = {\n",
    "    'nb_epoch': [10, 100, 250, 500, 1000], \n",
    "    'batch_size': [1000, 2000, 3000, 4000, 5000, 6500], \n",
    "    'learning_rate': [0.000001, 0.000005, 0.00001, 0.00005, 0.0001, 0.0005, 0.001, 0.005, 0.01] \n",
    "}\n",
    "    \n",
    "best_params = []\n",
    "min_score = float('inf')\n",
    "for batch in param_dist['batch_size']:\n",
    "    for learning_rate in param_dist['learning_rate']:\n",
    "        for epoch in param_dist['nb_epoch']:\n",
    "\n",
    "            regressor = Regressor(x_train)\n",
    "            # Change hyperparameters\n",
    "            regressor.nb_epoch = epoch\n",
    "            regressor.batch_size = batch\n",
    "            regressor.learning_rate = learning_rate\n",
    "                  \n",
    "            # Train model\n",
    "            regressor.fit(x_train, y_train)\n",
    "            # Validate\n",
    "            error = regressor.score(x_val, y_val)\n",
    "            #   print(f\"Epochs:, {epoch}, \\t Batch Sz:, {batch}, \\t learning_rate:, {learning_rate}, \\t Score(Absolute Error):, {error}\")\n",
    "            # save data into a csv file \n",
    "            row = [epoch, batch, learning_rate, error.item()]\n",
    "            with open('output.csv', 'a') as csvfile:\n",
    "                csvwriter = csv.writer(csvfile)\n",
    "                csvwriter.writerow(row)\n",
    "\n",
    "\n",
    "            # keep track of minimum score \n",
    "            if (error < min_score): \n",
    "                min_score = error\n",
    "                best_params = [epoch, batch, learning_rate]\n",
    "    \n",
    "return best_params "
   ]
  },
  {
   "cell_type": "markdown",
   "metadata": {},
   "source": [
    "#### Step 4.3: Bayesian optimisation"
   ]
  },
  {
   "cell_type": "code",
   "execution_count": null,
   "metadata": {},
   "outputs": [],
   "source": [
    "from tensorflow.keras.optimizers import Adam, SGD, RMSprop, Adadelta, Adagrad, Adamax, Nadam, Ftrl\n",
    "from keras.callbacks import EarlyStopping, ModelCheckpoint\n",
    "from sklearn.metrics import make_scorer, mean_squared_error\n",
    "from bayes_opt import BayesianOptimization\n",
    "from keras.wrappers.scikit_learn import KerasClassifier\n",
    "from sklearn.model_selection import StratifiedKFold\n",
    "from sklearn.model_selection import cross_val_score\n",
    "\n",
    "# Make scorer accuracy\n",
    "score_acc = make_scorer(mean_squared_error)\n",
    "\n",
    "# Create function\n",
    "def nn_cl_bo2(neurons, activation, optimizer, learning_rate, batch_size, epochs,\n",
    "              layers1, layers2, normalization, dropout, dropout_rate):\n",
    "    optimizerL = ['SGD', 'Adam', 'RMSprop', 'Adadelta', 'Adagrad', 'Adamax', 'Nadam', 'Ftrl','SGD']\n",
    "    optimizerD= {'Adam':Adam(learning_rate=learning_rate), 'SGD':SGD(learning_rate=learning_rate),\n",
    "                 'RMSprop':RMSprop(learning_rate=learning_rate), 'Adadelta':Adadelta(learning_rate=learning_rate),\n",
    "                 'Adagrad':Adagrad(learning_rate=learning_rate), 'Adamax':Adamax(learning_rate=learning_rate),\n",
    "                 'Nadam':Nadam(learning_rate=learning_rate), 'Ftrl':Ftrl(learning_rate=learning_rate)}\n",
    "    neurons = round(neurons)\n",
    "    optimizer = optimizerD[optimizerL[round(optimizer)]]\n",
    "    batch_size = round(batch_size)\n",
    "    epochs = round(epochs)\n",
    "    layers1 = round(layers1)\n",
    "    layers2 = round(layers2)\n",
    "    def nn_cl_fun():\n",
    "        model = Sequential()\n",
    "        model.add(LSTM(units=neurons, return_sequences=True, input_shape=(x_train.shape[1], x_train.shape[2]))) # units depends on create_dataset function\n",
    "        for i in range(layers1):\n",
    "            model.add(LSTM(units=100,return_sequences=True))\n",
    "        if dropout > 0.5:\n",
    "            model.add(Dropout(dropout_rate, seed=123))\n",
    "        for i in range(layers2):\n",
    "            model.add(LSTM(units=100,return_sequences=True))\n",
    "        model.add(Dense(units=f))\n",
    "        model.compile(loss='mse', optimizer=optimizer, metrics=['accuracy'])\n",
    "        return model\n",
    "    # es = EarlyStopping(monitor='val_loss', mode='max', verbose=0, patience=20)\n",
    "    early_stopping = EarlyStopping(monitor='val_loss', patience = 3, restore_best_weights=True)\n",
    "    model = KerasClassifier(build_fn=nn_cl_fun, epochs=epochs, batch_size=batch_size, verbose=0)\n",
    "    kfold = StratifiedKFold(n_splits=5, shuffle=True, random_state=123)\n",
    "    model.fit(x_train,y_train,epochs=epochs,validation_data=(x_test,y_test),callbacks=[early_stopping])\n",
    "    score = model.evaluate(x_test, y_test, batch_size=128)\n",
    "    return score\n",
    "\n",
    "# Set paramaters\n",
    "params_nn2 ={\n",
    "    'neurons': (10, 100),\n",
    "    'activation':(0, 9),\n",
    "    'optimizer':(0,7),\n",
    "    'learning_rate':(0.01, 1),\n",
    "    'batch_size':(200, 1000),\n",
    "    'epochs':(20, 100),\n",
    "    'layers1':(1,3),\n",
    "    'layers2':(1,3),\n",
    "    'normalization':(0,1),\n",
    "    'dropout':(0,1),\n",
    "    'dropout_rate':(0,0.3)\n",
    "}\n",
    "\n",
    "# Run Bayesian Optimization\n",
    "nn_bo = BayesianOptimization(nn_cl_bo2, params_nn2, random_state=111)\n",
    "nn_bo.maximize(init_points=25, n_iter=4)\n",
    "\n",
    "params_nn_ = nn_bo.max['params']\n",
    "learning_rate = params_nn_['learning_rate']\n",
    "activationL = ['relu', 'sigmoid', 'softplus', 'softsign', 'tanh', 'selu',\n",
    "               'elu', 'exponential', LeakyReLU,'relu']\n",
    "params_nn_['activation'] = activationL[round(params_nn_['activation'])]\n",
    "params_nn_['batch_size'] = round(params_nn_['batch_size'])\n",
    "params_nn_['epochs'] = round(params_nn_['epochs'])\n",
    "params_nn_['layers1'] = round(params_nn_['layers1'])\n",
    "params_nn_['layers2'] = round(params_nn_['layers2'])\n",
    "params_nn_['neurons'] = round(params_nn_['neurons'])\n",
    "optimizerL = ['Adam', 'SGD', 'RMSprop', 'Adadelta', 'Adagrad', 'Adamax', 'Nadam', 'Ftrl','Adam']\n",
    "optimizerD= {'Adam':Adam(learning_rate=learning_rate), 'SGD':SGD(learning_rate=learning_rate),\n",
    "             'RMSprop':RMSprop(learning_rate=learning_rate), 'Adadelta':Adadelta(learning_rate=learning_rate),\n",
    "             'Adagrad':Adagrad(learning_rate=learning_rate), 'Adamax':Adamax(learning_rate=learning_rate),\n",
    "             'Nadam':Nadam(learning_rate=learning_rate), 'Ftrl':Ftrl(learning_rate=learning_rate)}\n",
    "params_nn_['optimizer'] = optimizerD[optimizerL[round(params_nn_['optimizer'])]]\n",
    "params_nn_"
   ]
  },
  {
   "cell_type": "markdown",
   "metadata": {},
   "source": [
    "#### Step 4.4: Keras Tuner"
   ]
  },
  {
   "cell_type": "code",
   "execution_count": 100,
   "metadata": {},
   "outputs": [
    {
     "name": "stdout",
     "output_type": "stream",
     "text": [
      "Trial 2 Complete [03h 28m 03s]\n",
      "mse: 0.001679309643805027\n",
      "\n",
      "Best mse So Far: 0.001679309643805027\n",
      "Total elapsed time: 04h 37m 03s\n",
      "INFO:tensorflow:Oracle triggered exit\n"
     ]
    },
    {
     "ename": "NameError",
     "evalue": "name 'save_model' is not defined",
     "output_type": "error",
     "traceback": [
      "\u001b[0;31m---------------------------------------------------------------------------\u001b[0m",
      "\u001b[0;31mNameError\u001b[0m                                 Traceback (most recent call last)",
      "\u001b[0;32m/var/folders/cw/bwljv91s2pq0yk6ckv58m7f40000gn/T/ipykernel_16269/2139132421.py\u001b[0m in \u001b[0;36m<module>\u001b[0;34m\u001b[0m\n\u001b[1;32m     41\u001b[0m \u001b[0;34m\u001b[0m\u001b[0m\n\u001b[1;32m     42\u001b[0m \u001b[0;31m# saving model\u001b[0m\u001b[0;34m\u001b[0m\u001b[0;34m\u001b[0m\u001b[0;34m\u001b[0m\u001b[0m\n\u001b[0;32m---> 43\u001b[0;31m \u001b[0msave_model\u001b[0m\u001b[0;34m(\u001b[0m\u001b[0mbest_model\u001b[0m\u001b[0;34m,\u001b[0m\u001b[0;34m'bestLSTM.h5'\u001b[0m\u001b[0;34m)\u001b[0m\u001b[0;34m\u001b[0m\u001b[0;34m\u001b[0m\u001b[0m\n\u001b[0m",
      "\u001b[0;31mNameError\u001b[0m: name 'save_model' is not defined"
     ]
    }
   ],
   "source": [
    "# importing libraries\n",
    "import keras\n",
    "from keras_tuner import BayesianOptimization\n",
    "from kerastuner.engine.hyperparameters import HyperParameters\n",
    "\n",
    "# defining model space search\n",
    "def build_model(hp):\n",
    "    model = Sequential()\n",
    "    # tuning number of neurons\n",
    "    model.add(LSTM(hp.Int('input_unit',min_value=32,max_value=512,step=32),return_sequences=True, input_shape=(x_train.shape[1],x_train.shape[2])))\n",
    "    # tuning number of layers\n",
    "    for i in range(hp.Int('n_layers', 1, 4)):\n",
    "        model.add(LSTM(hp.Int(f'lstm_{i}_units',min_value=32,max_value=512,step=32),return_sequences=True))\n",
    "    model.add(LSTM(hp.Int('layer_2_neurons',min_value=32,max_value=512,step=32)))\n",
    "    # dropout layer\n",
    "    model.add(Dropout(hp.Float('Dropout_rate',min_value=0,max_value=0.5,step=0.1)))\n",
    "    # dense layer and activation function\n",
    "    model.add(Dense(y_train.shape[1]))\n",
    "    model.compile(loss='mean_squared_error', optimizer='adam',metrics = ['mse'])\n",
    "    return model\n",
    "\n",
    "# create Tuner object\n",
    "tuner= BayesianOptimization(\n",
    "        build_model,\n",
    "        objective='mse',\n",
    "        max_trials=2,\n",
    "        executions_per_trial=1\n",
    "        )\n",
    "\n",
    "# hyperparameter search \n",
    "early_stopping = EarlyStopping(monitor='val_loss', patience = 3, restore_best_weights=True)\n",
    "tuner.search(x_train, y_train,epochs=5, steps_per_epoch = 100, validation_data = 50,\n",
    "     #validation_data=(X_test, y_test)\n",
    "     validation_split=0.2,verbose=1, callbacks=[early_stopping])\n",
    "\n",
    "# best model\n",
    "best_model = tuner.get_best_models(num_models=1)[0]\n",
    "print(best_mode.summary())\n",
    "\n",
    "# best hyperparameter\n",
    "best_hyperparameters = tuner.get_best_hyperparameters(num_models=1)[0]\n",
    "print(best_hyperparameters)\n",
    "\n",
    "# prediction \n",
    "predictions=best_model.predict(x_test)\n",
    "\n",
    "# saving model \n",
    "model.save('bestLSTM.h5')"
   ]
  }
 ],
 "metadata": {
  "interpreter": {
   "hash": "aee8b7b246df8f9039afb4144a1f6fd8d2ca17a180786b69acc140d282b71a49"
  },
  "kernelspec": {
   "display_name": "Python 3.9.6 64-bit",
   "language": "python",
   "name": "python3"
  },
  "language_info": {
   "codemirror_mode": {
    "name": "ipython",
    "version": 3
   },
   "file_extension": ".py",
   "mimetype": "text/x-python",
   "name": "python",
   "nbconvert_exporter": "python",
   "pygments_lexer": "ipython3",
   "version": "3.9.6"
  },
  "orig_nbformat": 4
 },
 "nbformat": 4,
 "nbformat_minor": 2
}
