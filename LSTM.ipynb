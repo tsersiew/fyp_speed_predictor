{
 "cells": [
  {
   "cell_type": "code",
   "execution_count": 1,
   "metadata": {},
   "outputs": [],
   "source": [
    "# Dependencies\n",
    "import pandas as pd\n",
    "from scipy.io import loadmat\n",
    "import glob\n",
    "import matplotlib.pyplot as plt\n",
    "from keras.models import Sequential, load_model\n",
    "from keras.layers import LSTM,Dropout,Dense \n",
    "from sklearn.preprocessing import MinMaxScaler\n",
    "from torch.utils.data import Dataset, DataLoader\n",
    "import os\n",
    "import numpy as np\n",
    "from tqdm import tqdm\n",
    "import tensorflow as tf\n"
   ]
  },
  {
   "cell_type": "markdown",
   "metadata": {},
   "source": [
    "## Step 1: Load the data.\n",
    "Class has 3 elements\n",
    "- An ```__init__``` function that sets up your class and all the necessary parameters.\n",
    "- An ```__len__``` function that returns the size of your dataset.\n",
    "- An ```__getitem__``` function that given an index within the limits of the size of the dataset returns the associated image and label in tensor form."
   ]
  },
  {
   "cell_type": "code",
   "execution_count": 2,
   "metadata": {},
   "outputs": [],
   "source": [
    "# folder names\n",
    "dc_folders = ['Europe', 'Japan', 'USA']\n",
    "\n",
    "# Implement the dataset class\n",
    "class DrivingCyclesDataset(Dataset):\n",
    "    def __init__(self,\n",
    "                 path_to_dc,\n",
    "                 train=True):\n",
    "        # path_to_dc: where you put the driving cycles dataset\n",
    "        # idxs_train: training set indexes\n",
    "        # idxs_test: test set indexes\n",
    "        # train: return training set or test set\n",
    "        \n",
    "        # Load all the driving cycles\n",
    "        alldata = []\n",
    "        dcnames = []\n",
    "        if (train == True):\n",
    "            mat = loadmat('./DrivingCycles/WLTPextended.mat')\n",
    "            df = pd.DataFrame(mat['V_z'], columns = ['V_z']) # velocity \n",
    "            df2 = pd.DataFrame(mat['T_z'], columns = ['T_z']) # time\n",
    "            df3 = pd.DataFrame(mat['D_z'], columns = ['D_z']) # acceleration\n",
    "            df = pd.concat([df, df2, df3], axis=1)\n",
    "            alldata.append(df)\n",
    "            dcnames.append('WLTPextended.mat')\n",
    "            for folder in dc_folders:\n",
    "                image_path = os.path.join(path_to_dc, folder)\n",
    "                files = glob.glob(image_path + '/*.mat')\n",
    "                for f in files:\n",
    "                    mat = loadmat(f)\n",
    "                    df = pd.DataFrame(mat['V_z'], columns = ['V_z'])\n",
    "                    df2 = pd.DataFrame(mat['T_z'], columns = ['T_z'])\n",
    "                    df3 = pd.DataFrame(mat['D_z'], columns = ['D_z'])\n",
    "                    df = pd.concat([df, df2, df3], axis=1)\n",
    "                    dcnames.append(os.path.basename(f))\n",
    "                    # each dataframe is a driving cycle \n",
    "                    alldata.append(df)\n",
    "            # Extract the driving cycles with the specified file indexes     \n",
    "            self.data = (np.array(alldata, dtype=object))[p] #numpy array of dataframes \n",
    "            self.names = (np.array(dcnames, dtype=object))[p]\n",
    "        \n",
    "        else:\n",
    "            image_path = os.path.join(path_to_dc, 'test')\n",
    "            files = glob.glob(image_path + '/*.mat')\n",
    "            for f in files:\n",
    "                mat = loadmat(f)\n",
    "                df = pd.DataFrame(mat['V_z'], columns = ['V_z'])\n",
    "                df2 = pd.DataFrame(mat['T_z'], columns = ['T_z'])\n",
    "                df3 = pd.DataFrame(mat['D_z'], columns = ['D_z'])\n",
    "                df = pd.concat([df, df2, df3], axis=1)\n",
    "                dcnames.append(os.path.basename(f))\n",
    "                # each dataframe is a driving cycle \n",
    "                alldata.append(df)\n",
    "\n",
    "            self.data = alldata\n",
    "            self.names = dcnames\n",
    "\n",
    "\n",
    "    def __len__(self, idx):\n",
    "        # Return the number of samples in a driving cycle \n",
    "        return (self.data[idx]).size\n",
    "        \n",
    "    def __getitem__(self, idx):\n",
    "        # Get an item using its index\n",
    "        # Return the driving cycle and its name \n",
    "        return self.data[idx]"
   ]
  },
  {
   "cell_type": "code",
   "execution_count": 3,
   "metadata": {},
   "outputs": [],
   "source": [
    "def split_train_test(lendata, percentage=0.8):\n",
    "    idxs_train = int(percentage * lendata)\n",
    "    idxs_test = idxs_train + 1 \n",
    "    return idxs_train, idxs_test\n",
    "\n",
    "LENDATA = 36 + 6 + 4 + 1 # number of driving cycles = 47\n",
    "np.random.seed(42)\n",
    "idxs_train, idxs_test = split_train_test(LENDATA,0.8)\n",
    "idxs_test = 22 # only 1 test driving cycle for easier visualisation\n",
    "p = np.random.permutation(int(LENDATA-1))"
   ]
  },
  {
   "cell_type": "code",
   "execution_count": 41,
   "metadata": {},
   "outputs": [],
   "source": [
    "def create_dataset(dataset, h, f, step, test):\n",
    "    x = [] #append the last 50 values\n",
    "    y = [] #append the future value \n",
    "    for df in dataset:\n",
    "        features_considered = ['V_z', 'D_z']\n",
    "        features = df[features_considered]\n",
    "        for i in range(h, df.shape[0]-f):\n",
    "            # for each driving cycle dataframe, have sets of 51 values \n",
    "            # h values are past values, f values are future value \n",
    "            # features['v_ave'] = df['V_z'][i-h:i].mean()\n",
    "            # features['v_max'] = df['V_z'][i-h:i].max()\n",
    "            # features['v_min'] = df['V_z'][i-h:i].min()\n",
    "            # features['a_ave'] = df['D_z'][i-h:i].mean()\n",
    "            x.append(features[i-h:i])\n",
    "            if (test == False):\n",
    "                y.append(df['V_z'][i:i+f])\n",
    "            else:\n",
    "                y.append(df['V_z'][i])\n",
    "            # y.append(df.loc[i:i+f, \"V_z\"])\n",
    "    x = np.array(x) \n",
    "    y = np.array(y)  \n",
    "    # x = np.asarray(x).astype(np.float32)\n",
    "    return x,y"
   ]
  },
  {
   "cell_type": "markdown",
   "metadata": {},
   "source": [
    "## Step 2: Explore the data. (15 Points)\n",
    "\n",
    "### Step 2.1: Data visualisation. (5 points)\n",
    "\n",
    "- Plot data distribution, i.e. the number of samples per class.\n",
    "- Plot 1 sample from each of the five classes in the training set."
   ]
  },
  {
   "cell_type": "code",
   "execution_count": 105,
   "metadata": {},
   "outputs": [
    {
     "data": {
      "image/png": "[encoded data removed]",
      "text/plain": [
       "<Figure size 432x288 with 1 Axes>"
      ]
     },
     "metadata": {
      "needs_background": "light"
     },
     "output_type": "display_data"
    },
    {
     "name": "stdout",
     "output_type": "stream",
     "text": [
      "(132107, 50, 2)\n",
      "(441, 50, 2)\n"
     ]
    }
   ],
   "source": [
    "# loading datasets\n",
    "dc_path = './DrivingCycles/'\n",
    "dataset_train  = DrivingCyclesDataset(dc_path, train=True)\n",
    "dataset_test = DrivingCyclesDataset(dc_path, train=False)\n",
    "\n",
    "# # Plot samples from the test set\n",
    "# # Europe NEDC \n",
    "# sample_data = dataset_train.data[26]\n",
    "# sample_name = dataset_train.names[26]\n",
    "# print(sample_data.describe())\n",
    "# plt.title(sample_name + \" Driving Cycle\")\n",
    "# plt.xlabel(\"Time (s)\")\n",
    "# plt.ylabel(\"Velocity (m/s)\")\n",
    "# plt.plot(sample_data['T_z'], sample_data['V_z'])\n",
    "# plt.show()\n",
    "\n",
    "# # Europe WLTP \n",
    "# sample_data = dataset_train.data[37]\n",
    "# sample_name = dataset_train.names[37]\n",
    "# print(sample_data.describe())\n",
    "# plt.title(sample_name + \" Driving Cycle\")\n",
    "# plt.xlabel(\"Time (s)\")\n",
    "# plt.ylabel(\"Velocity (m/s)\")\n",
    "# plt.plot(sample_data['T_z'], sample_data['V_z'])\n",
    "# plt.show()\n",
    "\n",
    "# # Japan 10 Mode \n",
    "# sample_data = dataset_train.data[30]\n",
    "# sample_name = dataset_train.names[30]\n",
    "# print(sample_data.describe())\n",
    "# plt.title(sample_name + \" Driving Cycle\")\n",
    "# plt.xlabel(\"Time (s)\")\n",
    "# plt.ylabel(\"Velocity (m/s)\")\n",
    "# plt.plot(sample_data['T_z'], sample_data['V_z'])\n",
    "# plt.show()\n",
    "\n",
    "# # US FTP_75 \n",
    "# sample_data = dataset_train.data[17]\n",
    "# sample_name = dataset_train.names[17]\n",
    "# print(sample_data.describe())\n",
    "# plt.title(sample_name + \" Driving Cycle\")\n",
    "# plt.xlabel(\"Time (s)\")\n",
    "# plt.ylabel(\"Velocity (m/s)\")\n",
    "# plt.plot(sample_data['T_z'], sample_data['V_z'])\n",
    "# plt.show()\n",
    "\n",
    "# Plot 1 sample from the test set\n",
    "sample_data = dataset_test.data[0]\n",
    "sample_name = dataset_test.names[0]\n",
    "plt.title(sample_name + \" Driving Cycle\")\n",
    "plt.xlabel(\"Time (s)\")\n",
    "plt.ylabel(\"Velocity (m/s)\")\n",
    "plt.plot(sample_data['T_z'], sample_data['V_z'])\n",
    "plt.show()\n",
    "\n",
    "# scaling the datasets \n",
    "scaler = MinMaxScaler(feature_range=(0,1))\n",
    "for df in dataset_train: \n",
    "    df['V_z'] = scaler.fit_transform(df[['V_z']])\n",
    "    df['D_z'] = scaler.fit_transform(df[['D_z']])\n",
    "for df in dataset_test: \n",
    "    df['V_z'] = scaler.fit_transform(df[['V_z']])\n",
    "    df['D_z'] = scaler.fit_transform(df[['D_z']])\n",
    "\n",
    "# parameters h and f\n",
    "h = 50 # length of historical sequence\n",
    "f = 10 # length of forecast sequence \n",
    "step = 1\n",
    "\n",
    "# create training set and test set \n",
    "x_train, y_train = create_dataset(dataset_train, h, f, step, False)\n",
    "x_test, y_test = create_dataset(dataset_test, h, f, step, True)\n",
    "\n",
    "# check \n",
    "print(x_train.shape)\n",
    "print(x_test.shape)\n",
    "\n",
    "# reshaping input to LSTM model \n",
    "x_train = np.reshape(x_train, (x_train.shape[0], x_train.shape[1], x_train.shape[2]))\n",
    "x_test = np.reshape(x_test, (x_test.shape[0], x_test.shape[1], x_test.shape[2]))"
   ]
  },
  {
   "cell_type": "markdown",
   "metadata": {},
   "source": [
    "## Step 3: LSTM\n",
    "In this section we will try to make a LSTM predictor to predict the future velocity. \n",
    "\n",
    "### Step 3.1: Define the model. (15 points)\n",
    "\n",
    "Design a neural network which consists of a number of convolutional layers and a few fully connected ones at the end.\n",
    "\n",
    "The exact architecture is up to you but you do NOT need to create something complicated. For example, you could design a LeNet insprired network."
   ]
  },
  {
   "cell_type": "code",
   "execution_count": 106,
   "metadata": {},
   "outputs": [
    {
     "name": "stdout",
     "output_type": "stream",
     "text": [
      "(132107, 50, 2)\n",
      "(441, 50, 2)\n",
      "(132107, 10)\n",
      "(441,)\n",
      "<class 'numpy.ndarray'>\n",
      "<class 'numpy.ndarray'>\n"
     ]
    }
   ],
   "source": [
    "# check\n",
    "print(x_train.shape)\n",
    "print(x_test.shape)\n",
    "print(y_train.shape)\n",
    "print(y_test.shape)\n",
    "\n",
    "print(type(x_train))\n",
    "print(type(y_test))\n",
    "\n",
    "# Network \n",
    "model = Sequential()\n",
    "model.add(LSTM(units=100, return_sequences=True, input_shape=(x_train.shape[1], x_train.shape[2]))) # units depends on create_dataset function\n",
    "model.add(Dropout(0.2))\n",
    "model.add(LSTM(units=100,return_sequences=True))\n",
    "model.add(Dropout(0.2))\n",
    "model.add(LSTM(units=100,return_sequences=True))\n",
    "model.add(Dropout(0.2))\n",
    "model.add(LSTM(units=100))\n",
    "model.add(Dropout(0.2))\n",
    "model.add(Dense(units=f))"
   ]
  },
  {
   "cell_type": "markdown",
   "metadata": {},
   "source": [
    "### Step 3.2: Define the training parameters. (10 points)\n",
    "\n",
    "- Loss function\n",
    "- Optimizer\n",
    "- Learning Rate\n",
    "- Number of iterations\n",
    "- Batch Size\n",
    "- Other relevant hyperparameters"
   ]
  },
  {
   "cell_type": "code",
   "execution_count": 107,
   "metadata": {},
   "outputs": [],
   "source": [
    "# compile the model \n",
    "model.compile(loss='mse', optimizer='adam')"
   ]
  },
  {
   "cell_type": "markdown",
   "metadata": {},
   "source": [
    "### Step 3.3: Train the model."
   ]
  },
  {
   "cell_type": "code",
   "execution_count": 108,
   "metadata": {},
   "outputs": [
    {
     "name": "stdout",
     "output_type": "stream",
     "text": [
      "Epoch 1/10\n",
      "2643/2643 [==============================] - 824s 299ms/step - loss: 0.0048\n",
      "Epoch 2/10\n",
      "2643/2643 [==============================] - 1060s 401ms/step - loss: 0.0020\n",
      "Epoch 3/10\n",
      "2643/2643 [==============================] - 742s 281ms/step - loss: 0.0017\n",
      "Epoch 4/10\n",
      "2643/2643 [==============================] - 547s 207ms/step - loss: 0.0015\n",
      "Epoch 5/10\n",
      "2643/2643 [==============================] - 632s 239ms/step - loss: 0.0013\n",
      "Epoch 6/10\n",
      "2643/2643 [==============================] - 594s 225ms/step - loss: 0.0013\n",
      "Epoch 7/10\n",
      "2643/2643 [==============================] - 606s 229ms/step - loss: 0.0012\n",
      "Epoch 8/10\n",
      "2643/2643 [==============================] - 650s 246ms/step - loss: 0.0011\n",
      "Epoch 9/10\n",
      "2643/2643 [==============================] - 8536s 3s/step - loss: 0.0011\n",
      "Epoch 10/10\n",
      "2643/2643 [==============================] - 7729s 3s/step - loss: 0.0010\n"
     ]
    }
   ],
   "source": [
    "model.fit(x_train, y_train, epochs=10, batch_size=50)\n",
    "model.save('speed_prediction.h5')\n",
    "\n",
    "# load the model \n",
    "model = load_model('speed_prediction.h5') "
   ]
  },
  {
   "cell_type": "markdown",
   "metadata": {},
   "source": [
    "### Step 3.4: Deploy the trained model onto the test set. "
   ]
  },
  {
   "cell_type": "code",
   "execution_count": 109,
   "metadata": {},
   "outputs": [
    {
     "name": "stdout",
     "output_type": "stream",
     "text": [
      "(441, 10)\n"
     ]
    }
   ],
   "source": [
    "predictions = model.predict(x_test)\n",
    "predictions = scaler.inverse_transform(predictions)\n",
    "\n",
    "# check\n",
    "print(predictions.shape)"
   ]
  },
  {
   "cell_type": "code",
   "execution_count": 110,
   "metadata": {},
   "outputs": [
    {
     "name": "stdout",
     "output_type": "stream",
     "text": [
      "(441, 1)\n"
     ]
    }
   ],
   "source": [
    "y_test_scaled = scaler.inverse_transform(y_test.reshape(-1,1))\n",
    "\n",
    "#check\n",
    "print(y_test_scaled.shape)"
   ]
  },
  {
   "cell_type": "markdown",
   "metadata": {},
   "source": [
    "### Step 3.5: Evaluate the performance of the model "
   ]
  },
  {
   "cell_type": "code",
   "execution_count": 111,
   "metadata": {},
   "outputs": [
    {
     "data": {
      "text/plain": [
       "Text(0, 0.5, 'Time (s)')"
      ]
     },
     "execution_count": 111,
     "metadata": {},
     "output_type": "execute_result"
    },
    {
     "data": {
      "image/png": "[encoded data removed]",
      "text/plain": [
       "<Figure size 1152x576 with 1 Axes>"
      ]
     },
     "metadata": {
      "needs_background": "light"
     },
     "output_type": "display_data"
    }
   ],
   "source": [
    "fig, ax = plt.subplots(figsize=(16,8))\n",
    "ax.plot(y_test_scaled)\n",
    "# plt.plot(predictions, color='red') \n",
    "for i in range(predictions.shape[0]): \n",
    "    plt.plot(range(i,i+f), predictions[i], color='red') \n",
    "plt.legend(['Actual velocity', 'Predicted velocity'])\n",
    "title = 'Predicted future velocity profile for h=' + str(h) + ' and f=' + str(f)\n",
    "plt.title(title)\n",
    "plt.xlabel(\"Velocity (m/s)\")\n",
    "plt.ylabel(\"Time (s)\")"
   ]
  },
  {
   "cell_type": "markdown",
   "metadata": {},
   "source": [
    "### Step 4: Hyperparameter Search"
   ]
  },
  {
   "cell_type": "code",
   "execution_count": null,
   "metadata": {},
   "outputs": [],
   "source": [
    "header = ['nb_epoch', 'batch_size', 'learning_rate','RMSE_error']\n",
    "with open('output.csv', 'w') as csvfile:\n",
    "    csvwriter = csv.writer(csvfile)\n",
    "    csvwriter.writerow(header)\n",
    "\n",
    "param_dist = {\n",
    "    'nb_epoch': [10, 100, 250, 500, 1000], \n",
    "    'batch_size': [1000, 2000, 3000, 4000, 5000, 6500], \n",
    "    'learning_rate': [0.000001, 0.000005, 0.00001, 0.00005, 0.0001, 0.0005, 0.001, 0.005, 0.01] \n",
    "}\n",
    "    \n",
    "best_params = []\n",
    "min_score = float('inf')\n",
    "for batch in param_dist['batch_size']:\n",
    "    for lr in param_dist['learning_rate']:\n",
    "        for epoch in param_dist['nb_epoch']:\n",
    "\n",
    "            regressor = Regressor(x_train)\n",
    "            # Change hyperparameters\n",
    "            regressor.nb_epoch = epoch\n",
    "            regressor.batch_size = batch\n",
    "            regressor.learning_rate = lr\n",
    "                  \n",
    "            # Train model\n",
    "            regressor.fit(x_train, y_train)\n",
    "            # Validate\n",
    "            error = regressor.score(x_val, y_val)\n",
    "            #   print(f\"Epochs:, {epoch}, \\t Batch Sz:, {batch}, \\t LR:, {lr}, \\t Score(Absolute Error):, {error}\")\n",
    "            # save data into a csv file \n",
    "            row = [epoch, batch, lr, error.item()]\n",
    "            with open('output.csv', 'a') as csvfile:\n",
    "                csvwriter = csv.writer(csvfile)\n",
    "                csvwriter.writerow(row)\n",
    "\n",
    "\n",
    "            # keep track of minimum score \n",
    "            if (error < min_score): \n",
    "                min_score = error\n",
    "                best_params = [epoch, batch, lr]\n",
    "    \n",
    "return best_params "
   ]
  }
 ],
 "metadata": {
  "interpreter": {
   "hash": "aee8b7b246df8f9039afb4144a1f6fd8d2ca17a180786b69acc140d282b71a49"
  },
  "kernelspec": {
   "display_name": "Python 3.9.6 64-bit",
   "language": "python",
   "name": "python3"
  },
  "language_info": {
   "codemirror_mode": {
    "name": "ipython",
    "version": 3
   },
   "file_extension": ".py",
   "mimetype": "text/x-python",
   "name": "python",
   "nbconvert_exporter": "python",
   "pygments_lexer": "ipython3",
   "version": "3.9.6"
  },
  "orig_nbformat": 4
 },
 "nbformat": 4,
 "nbformat_minor": 2
}
