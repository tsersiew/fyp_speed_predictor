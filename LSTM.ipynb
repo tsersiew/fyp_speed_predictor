{
 "cells": [
  {
   "cell_type": "code",
   "execution_count": 66,
   "metadata": {},
   "outputs": [],
   "source": [
    "# Dependencies\n",
    "import pandas as pd\n",
    "from scipy.io import loadmat\n",
    "import glob\n",
    "import matplotlib.pyplot as plt\n",
    "from keras.models import Sequential, load_model\n",
    "from keras.layers import LSTM,Dropout,Dense \n",
    "import keras.metrics\n",
    "from sklearn.preprocessing import MinMaxScaler\n",
    "from torch.utils.data import Dataset, DataLoader\n",
    "import os\n",
    "import numpy as np\n",
    "from tqdm import tqdm\n",
    "import torch\n",
    "import torch.nn as nn\n",
    "import torch.nn.functional as F\n"
   ]
  },
  {
   "cell_type": "markdown",
   "metadata": {},
   "source": [
    "## Step 1: Load the data.\n",
    "\n",
    "- Complete the dataset class with the skeleton below.\n",
    "- Add any transforms you feel are necessary.\n",
    "\n",
    "Your class should have at least 3 elements\n",
    "- An ```__init__``` function that sets up your class and all the necessary parameters.\n",
    "- An ```__len__``` function that returns the size of your dataset.\n",
    "- An ```__getitem__``` function that given an index within the limits of the size of the dataset returns the associated image and label in tensor form.\n",
    "\n",
    "You may add more helper functions if you want.\n",
    "\n",
    "In this section we are following the Pytorch [dataset](https://pytorch.org/vision/stable/datasets.html) class structure. You can take inspiration from their documentation."
   ]
  },
  {
   "cell_type": "code",
   "execution_count": 67,
   "metadata": {},
   "outputs": [],
   "source": [
    "# folder names\n",
    "dc_folders = ['Europe', 'Japan', 'USA']\n",
    "\n",
    "# Implement the dataset class\n",
    "class DrivingCyclesDataset(Dataset):\n",
    "    def __init__(self,\n",
    "                 path_to_images,\n",
    "                 idxs_train,\n",
    "                 idxs_test,\n",
    "                 train=True):\n",
    "        # path_to_images: where you put the driving cycles dataset\n",
    "        # idxs_train: training set indexes\n",
    "        # idxs_test: test set indexes\n",
    "        # train: return training set or test set\n",
    "        \n",
    "        # Load all the driving cycles\n",
    "        alldata = []\n",
    "        dcnames = []\n",
    "        mat = loadmat('./DrivingCycles/WLTPextended.mat')\n",
    "        df = pd.DataFrame(mat['V_z'], columns = ['V_z']) # velocity \n",
    "        df2 = pd.DataFrame(mat['T_z'], columns = ['T_z']) # time\n",
    "        df3 = pd.DataFrame(mat['D_z'], columns = ['D_z']) # acceleration\n",
    "        df4 = pd.DataFrame(mat['G_z'], columns = ['G_z']) \n",
    "        df = pd.concat([df, df2, df3, df4], axis=1)\n",
    "        alldata.append(df)\n",
    "        dcnames.append('WLTPextended.mat')\n",
    "        for folder in dc_folders:\n",
    "            image_path = os.path.join(path_to_images, folder)\n",
    "            files = glob.glob(image_path + '/*.mat')\n",
    "            for f in files:\n",
    "                mat = loadmat(f)\n",
    "                df = pd.DataFrame(mat['V_z'], columns = ['V_z'])\n",
    "                df2 = pd.DataFrame(mat['T_z'], columns = ['T_z'])\n",
    "                df3 = pd.DataFrame(mat['D_z'], columns = ['D_z'])\n",
    "                df4 = pd.DataFrame(mat['G_z'], columns = ['G_z'])\n",
    "                df = pd.concat([df, df2, df3, df4], axis=1)\n",
    "                dcnames.append(os.path.basename(f))\n",
    "                # each dataframe is a driving cycle \n",
    "                alldata.append(df)\n",
    "                if (f==\"./DrivingCycles/Europe/NEDC.mat\"): \n",
    "                    print(df.describe())\n",
    "                # can add v_ave, v_max, v_min, a_ave \n",
    "\n",
    "        # Extract the driving cycles with the specified file indexes     \n",
    "        alldata_np = (np.array(alldata))[p] #numpy array of dataframes \n",
    "        dcnames_np = (np.array(dcnames))[p]\n",
    "        if train==True:\n",
    "            self.data = alldata_np[:idxs_train]\n",
    "            self.names = dcnames_np[:idxs_train]\n",
    "        else:\n",
    "            self.data = alldata_np[idxs_test-1:]\n",
    "            self.names = dcnames_np[:idxs_train]\n",
    "\n",
    "    def __len__(self, idx):\n",
    "        # Return the number of samples in a driving cycle \n",
    "        return (self.data[idx]).size\n",
    "        \n",
    "    def __getitem__(self, idx):\n",
    "        # Get an item using its index\n",
    "        # Return the driving cycle and its name \n",
    "        return self.data[idx], self.names[idx]"
   ]
  },
  {
   "cell_type": "code",
   "execution_count": 68,
   "metadata": {},
   "outputs": [],
   "source": [
    "def split_train_test(lendata, percentage=0.8):\n",
    "    #### ADD YOUR CODE HERE ####\n",
    "    idxs_train = int(percentage * lendata)\n",
    "    idxs_test = idxs_train + 1 \n",
    "    return idxs_train, idxs_test\n",
    "\n",
    "LENDATA = 36 + 6 + 4 + 1 # number of driving cycles = 47\n",
    "np.random.seed(42)\n",
    "idxs_train, idxs_test = split_train_test(LENDATA,0.8)\n",
    "idxs_test = 47 # only 1 test driving cycle for easier visualisation \n",
    "p = np.random.permutation(int(LENDATA))"
   ]
  },
  {
   "cell_type": "code",
   "execution_count": 69,
   "metadata": {},
   "outputs": [],
   "source": [
    "def create_dataset(dataset):\n",
    "    x = [] #append the last 50 values\n",
    "    y = [] #append the future value \n",
    "    for df in dataset:\n",
    "        for i in range(50, df.shape[0]):\n",
    "            # for each driving cycle dataframe, have sets of 51 values \n",
    "            # 50 values are past values, 1 value is future value \n",
    "            x.append(df.loc[i-50:i, \"V_z\"])\n",
    "            y.append(df.loc[i, \"V_z\"])\n",
    "    x = np.array(x) \n",
    "    y = np.array(y)\n",
    "    return x,y"
   ]
  },
  {
   "cell_type": "markdown",
   "metadata": {},
   "source": [
    "## Step 2: Explore the data. (15 Points)\n",
    "\n",
    "### Step 2.1: Data visualisation. (5 points)\n",
    "\n",
    "- Plot data distribution, i.e. the number of samples per class.\n",
    "- Plot 1 sample from each of the five classes in the training set."
   ]
  },
  {
   "cell_type": "code",
   "execution_count": 70,
   "metadata": {},
   "outputs": [
    {
     "name": "stdout",
     "output_type": "stream",
     "text": [
      "               V_z          T_z           D_z          G_z\n",
      "count  1220.000000  1220.000000  1.220000e+03  1220.000000\n",
      "mean      8.960383   610.500000 -2.912060e-18     1.859016\n",
      "std       8.636899   352.327972  4.223170e-01     1.633265\n",
      "min       0.000000     1.000000 -1.388889e+00     0.000000\n",
      "25%       0.000000   305.750000  0.000000e+00     0.000000\n",
      "50%       8.888889   610.500000  0.000000e+00     2.000000\n",
      "75%      13.888889   915.250000  0.000000e+00     3.000000\n",
      "max      33.333333  1220.000000  1.041667e+00     5.000000\n"
     ]
    },
    {
     "name": "stderr",
     "output_type": "stream",
     "text": [
      "/var/folders/cw/bwljv91s2pq0yk6ckv58m7f40000gn/T/ipykernel_47034/3720253446.py:51: VisibleDeprecationWarning: Creating an ndarray from ragged nested sequences (which is a list-or-tuple of lists-or-tuples-or ndarrays with different lengths or shapes) is deprecated. If you meant to do this, you must specify 'dtype=object' when creating the ndarray.\n",
      "  alldata_np = (np.array(alldata))[p] #numpy array of dataframes\n"
     ]
    },
    {
     "name": "stdout",
     "output_type": "stream",
     "text": [
      "               V_z          T_z           D_z          G_z\n",
      "count  1220.000000  1220.000000  1.220000e+03  1220.000000\n",
      "mean      8.960383   610.500000 -2.912060e-18     1.859016\n",
      "std       8.636899   352.327972  4.223170e-01     1.633265\n",
      "min       0.000000     1.000000 -1.388889e+00     0.000000\n",
      "25%       0.000000   305.750000  0.000000e+00     0.000000\n",
      "50%       8.888889   610.500000  0.000000e+00     2.000000\n",
      "75%      13.888889   915.250000  0.000000e+00     3.000000\n",
      "max      33.333333  1220.000000  1.041667e+00     5.000000\n"
     ]
    },
    {
     "name": "stderr",
     "output_type": "stream",
     "text": [
      "/var/folders/cw/bwljv91s2pq0yk6ckv58m7f40000gn/T/ipykernel_47034/3720253446.py:51: VisibleDeprecationWarning: Creating an ndarray from ragged nested sequences (which is a list-or-tuple of lists-or-tuples-or ndarrays with different lengths or shapes) is deprecated. If you meant to do this, you must specify 'dtype=object' when creating the ndarray.\n",
      "  alldata_np = (np.array(alldata))[p] #numpy array of dataframes\n"
     ]
    },
    {
     "name": "stdout",
     "output_type": "stream",
     "text": [
      "              V_z         T_z         D_z         G_z\n",
      "count  231.000000  231.000000  231.000000  231.000000\n",
      "mean     9.409572  116.000000    0.000000    1.948052\n",
      "std      7.619817   66.828138    0.378112    1.537045\n",
      "min      0.000000    1.000000   -0.833333    0.000000\n",
      "25%      0.000000   58.500000    0.000000    0.000000\n",
      "50%     12.152778  116.000000    0.000000    3.000000\n",
      "75%     16.666667  173.500000    0.252525    3.000000\n",
      "max     19.444444  231.000000    0.771605    4.000000\n"
     ]
    },
    {
     "data": {
      "image/png": "[encoded data removed]",
      "text/plain": [
       "<Figure size 432x288 with 1 Axes>"
      ]
     },
     "metadata": {
      "needs_background": "light"
     },
     "output_type": "display_data"
    }
   ],
   "source": [
    "# loading datasets\n",
    "img_path = './DrivingCycles/'\n",
    "dataset_train  = DrivingCyclesDataset(img_path, idxs_train, idxs_test, None, img_size=128, train=True)\n",
    "dataset_test = DrivingCyclesDataset(img_path, idxs_train, idxs_test, None, img_size=128, train=False)\n",
    "\n",
    "# scaling datasets\n",
    "scaler = MinMaxScaler(feature_range=(0,1))\n",
    "# need to check if it will work for all columns \n",
    "dataset_train = scaler.fit_transform(dataset_train)\n",
    "dataset_test = scaler.transform(dataset_test)\n",
    "        # for column in feature_columns:\n",
    "        #     scaler = preprocessing.MinMaxScaler()\n",
    "        #     df[column] = scaler.fit_transform(np.expand_dims(df[column].values, axis=1))\n",
    "        #     column_scaler[column] = scaler\n",
    "        # # add the MinMaxScaler instances to the result returned\n",
    "        # result[\"column_scaler\"] = column_scaler\n",
    "\n",
    "# create training set and test set \n",
    "x_train, y_train = create_dataset(dataset_train)\n",
    "x_test, y_test = create_dataset(dataset_test)\n",
    "\n",
    "# reshaping input to LSTM model \n",
    "x_train = np.reshape(x_train, (x_train.shape[0], x_train.shape[1], 1))\n",
    "x_test = np.reshape(x_test, (x_test.shape[0], x_test.shape[1], 1))\n",
    "\n",
    "# Plot 1 sample from the training set\n",
    "sample_data = dataset_test.data[0]\n",
    "sample_name = dataset_test.name[0]\n",
    "print(sample_data.describe())\n",
    "plt.title(sample_name + \" Driving Cycle\")\n",
    "plt.xlabel(\"Time (s)\")\n",
    "plt.ylabel(\"Velocity (km/h)\")\n",
    "plt.plot(sample_data['T_z'], sample_data['V_z'])\n",
    "plt.show()"
   ]
  },
  {
   "cell_type": "markdown",
   "metadata": {},
   "source": [
    "## Step 3: LSTM\n",
    "In this section we will try to make a LSTM predictor to predict the future velocity. \n",
    "\n",
    "### Step 3.1: Define the model. (15 points)\n",
    "\n",
    "Design a neural network which consists of a number of convolutional layers and a few fully connected ones at the end.\n",
    "\n",
    "The exact architecture is up to you but you do NOT need to create something complicated. For example, you could design a LeNet insprired network."
   ]
  },
  {
   "cell_type": "code",
   "execution_count": 71,
   "metadata": {},
   "outputs": [],
   "source": [
    "# Network \n",
    "model = Sequential()\n",
    "model.add(LSTM(units=50, return_sequences=True, input_shape=(x_train.shape[1], 1))) # units depends on create_dataset function\n",
    "model.add(Dropout(0.2))\n",
    "model.add(LSTM(units=50,return_sequences=True))\n",
    "model.add(Dropout(0.2))\n",
    "model.add(LSTM(units=50,return_sequences=True))\n",
    "model.add(Dropout(0.2))\n",
    "model.add(LSTM(units=50))\n",
    "model.add(Dropout(0.2))\n",
    "model.add(Dense(units=1))"
   ]
  },
  {
   "cell_type": "markdown",
   "metadata": {},
   "source": [
    "### Step 3.2: Define the training parameters. (10 points)\n",
    "\n",
    "- Loss function\n",
    "- Optimizer\n",
    "- Learning Rate\n",
    "- Number of iterations\n",
    "- Batch Size\n",
    "- Other relevant hyperparameters"
   ]
  },
  {
   "cell_type": "code",
   "execution_count": 73,
   "metadata": {},
   "outputs": [],
   "source": [
    "# compile the model \n",
    "model.compile(loss='mse', optimizer='adam')"
   ]
  },
  {
   "cell_type": "markdown",
   "metadata": {},
   "source": [
    "### Step 3.3: Train the model. (15 points)\n",
    "\n",
    "Complete the training loop."
   ]
  },
  {
   "cell_type": "code",
   "execution_count": 74,
   "metadata": {},
   "outputs": [
    {
     "name": "stdout",
     "output_type": "stream",
     "text": [
      "Epoch 1/10\n",
      "2792/2792 [==============================] - 693s 245ms/step - loss: 2.5664 - root_mean_squared_error: 1.6020\n",
      "Epoch 2/10\n",
      "2792/2792 [==============================] - 691s 247ms/step - loss: 0.6889 - root_mean_squared_error: 0.8300\n",
      "Epoch 3/10\n",
      "2792/2792 [==============================] - 708s 254ms/step - loss: 0.6300 - root_mean_squared_error: 0.7938\n",
      "Epoch 4/10\n",
      "2792/2792 [==============================] - 828s 297ms/step - loss: 0.6051 - root_mean_squared_error: 0.7779\n",
      "Epoch 5/10\n",
      "2792/2792 [==============================] - 715s 256ms/step - loss: 0.5508 - root_mean_squared_error: 0.7422\n",
      "Epoch 6/10\n",
      "2792/2792 [==============================] - 799s 286ms/step - loss: 0.5176 - root_mean_squared_error: 0.7194\n",
      "Epoch 7/10\n",
      "2792/2792 [==============================] - 881s 316ms/step - loss: 0.5114 - root_mean_squared_error: 0.7151\n",
      "Epoch 8/10\n",
      "2792/2792 [==============================] - 753s 270ms/step - loss: 0.4738 - root_mean_squared_error: 0.6883\n",
      "Epoch 9/10\n",
      "2792/2792 [==============================] - 724s 259ms/step - loss: 0.4515 - root_mean_squared_error: 0.6719\n",
      "Epoch 10/10\n",
      "2792/2792 [==============================] - 1746s 625ms/step - loss: 0.4296 - root_mean_squared_error: 0.6555\n"
     ]
    }
   ],
   "source": [
    "model.fit(x_train, y_train, epochs=10, batch_size=32)\n",
    "model.save('speed_prediction.h5')\n",
    "\n",
    "# load the model \n",
    "model = load_model('speed_prediction.h5') "
   ]
  },
  {
   "cell_type": "markdown",
   "metadata": {},
   "source": [
    "### Step 3.4: Deploy the trained model onto the test set. "
   ]
  },
  {
   "cell_type": "code",
   "execution_count": 75,
   "metadata": {},
   "outputs": [],
   "source": [
    "predictions = model.predict(x_test)\n",
    "# predictions = scaler.inverse_transform(predictions)\n",
    "# y_test_scaled = scaler.inverse_transform(y_test.reshape(-1, 1))"
   ]
  },
  {
   "cell_type": "markdown",
   "metadata": {},
   "source": [
    "### Step 3.5: Evaluate the performance of the model and visualize the confusion matrix. (5 points)\n",
    "\n",
    "You can use sklearns related function."
   ]
  },
  {
   "cell_type": "code",
   "execution_count": 80,
   "metadata": {},
   "outputs": [
    {
     "data": {
      "text/plain": [
       "Text(0.5, 1.0, 'Visualisation of predicted future velocity profile')"
      ]
     },
     "execution_count": 80,
     "metadata": {},
     "output_type": "execute_result"
    },
    {
     "data": {
      "image/png": "[encoded data removed]",
      "text/plain": [
       "<Figure size 1152x576 with 1 Axes>"
      ]
     },
     "metadata": {
      "needs_background": "light"
     },
     "output_type": "display_data"
    }
   ],
   "source": [
    "fig, ax = plt.subplots(figsize=(16,8))\n",
    "# ax.set_facecolor('#000041')\n",
    "ax.plot(y_test, label='Actual velocity')\n",
    "plt.plot(predictions, label='Predicted velocity')\n",
    "plt.legend()\n",
    "plt.title('Visualisation of predicted future velocity profile')"
   ]
  }
 ],
 "metadata": {
  "interpreter": {
   "hash": "aee8b7b246df8f9039afb4144a1f6fd8d2ca17a180786b69acc140d282b71a49"
  },
  "kernelspec": {
   "display_name": "Python 3.9.6 64-bit",
   "language": "python",
   "name": "python3"
  },
  "language_info": {
   "codemirror_mode": {
    "name": "ipython",
    "version": 3
   },
   "file_extension": ".py",
   "mimetype": "text/x-python",
   "name": "python",
   "nbconvert_exporter": "python",
   "pygments_lexer": "ipython3",
   "version": "3.9.6"
  },
  "orig_nbformat": 4
 },
 "nbformat": 4,
 "nbformat_minor": 2
}
