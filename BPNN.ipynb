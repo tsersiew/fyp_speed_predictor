{
 "cells": [
  {
   "cell_type": "code",
   "execution_count": 31,
   "metadata": {},
   "outputs": [],
   "source": [
    "# Dependencies\n",
    "import pandas as pd\n",
    "from scipy.io import loadmat\n",
    "import glob\n",
    "from torch.utils.data import Dataset, DataLoader\n",
    "from torchvision import transforms\n",
    "import os\n",
    "import numpy as np\n",
    "from tqdm import tqdm\n",
    "import torch\n",
    "import torch.nn as nn\n",
    "import torch.nn.functional as F\n",
    "import matplotlib.pyplot as plt"
   ]
  },
  {
   "cell_type": "markdown",
   "metadata": {},
   "source": [
    "## Step 1: Load the data.\n",
    "\n",
    "- Complete the dataset class with the skeleton below.\n",
    "- Add any transforms you feel are necessary.\n",
    "\n",
    "Your class should have at least 3 elements\n",
    "- An ```__init__``` function that sets up your class and all the necessary parameters.\n",
    "- An ```__len__``` function that returns the size of your dataset.\n",
    "- An ```__getitem__``` function that given an index within the limits of the size of the dataset returns the associated image and label in tensor form.\n",
    "\n",
    "You may add more helper functions if you want.\n",
    "\n",
    "In this section we are following the Pytorch [dataset](https://pytorch.org/vision/stable/datasets.html) class structure. You can take inspiration from their documentation."
   ]
  },
  {
   "cell_type": "code",
   "execution_count": 88,
   "metadata": {},
   "outputs": [],
   "source": [
    "# load dataset \n",
    "#cycle_nedc = pd.read_csv(\"../DrivingCycles/Europe/\")\n",
    "\n",
    "dc_folders = ['Europe', 'Japan', 'USA']\n",
    "\n",
    "# Implement the dataset class\n",
    "class DrivingCyclesDataset(Dataset):\n",
    "    def __init__(self,\n",
    "                 path_to_images,\n",
    "                 idxs_train,\n",
    "                 idxs_test,\n",
    "                 transform_extra=None,\n",
    "                 img_size=128,\n",
    "                 train=True):\n",
    "        # path_to_images: where you put the driving cycles dataset\n",
    "        # idxs_train: training set indexes\n",
    "        # idxs_test: test set indexes\n",
    "        # transform_extra: extra data transform\n",
    "        # img_size: resize all images to a standard size\n",
    "        # train: return training set or test set\n",
    "        \n",
    "        # Load all the images and their labels\n",
    "        #### ADD YOUR CODE HERE ####\n",
    "        alldata = []\n",
    "        mat = loadmat('./DrivingCycles/WLTPextended.mat')\n",
    "        data = np.array(mat)\n",
    "        alldata.append(data)\n",
    "        for folder in dc_folders:\n",
    "            image_path = os.path.join(path_to_images, folder)\n",
    "            files = glob.glob(image_path + '/*.mat')\n",
    "            for f in files:\n",
    "                mat = loadmat(f)\n",
    "                data = np.array(mat)\n",
    "                alldata.append(mat)\n",
    "\n",
    "        # Extract the images and labels with the specified file indexes      \n",
    "        #### ADD YOUR CODE HERE ####\n",
    "        alldata_np = (np.array(alldata))[p]\n",
    "        if train==True:\n",
    "            self.data = alldata_np[:idxs_train]\n",
    "        else:\n",
    "            self.data = alldata_np[idxs_test-1:]\n",
    "\n",
    "    def __len__(self, idx):\n",
    "        # Return the number of samples in a driving cycle \n",
    "        #### ADD YOUR CODE HERE ####\n",
    "        return (self.data[idx]).size\n",
    "        \n",
    "    def __getitem__(self, idx):\n",
    "        # Get an item using its index\n",
    "        # Return the driving cycle \n",
    "        #### ADD YOUR CODE HERE ####\n",
    "        sample_data = self.data[idx]\n",
    "        sample_data = transforms.ToTensor()(sample_data)\n",
    "        return sample_data"
   ]
  },
  {
   "cell_type": "code",
   "execution_count": 76,
   "metadata": {},
   "outputs": [
    {
     "name": "stdout",
     "output_type": "stream",
     "text": [
      "[27 39 26 43 24 36 12 19  4 25  8  3  6 40 33 13 17 44 15  9 16 29 32 45\n",
      "  0 31 30  5 11 34  1 41 21  2 35 23 37 10 22 18 46 20  7 42 14 28 38]\n"
     ]
    }
   ],
   "source": [
    "def split_train_test(lendata, percentage=0.8):\n",
    "    #### ADD YOUR CODE HERE ####\n",
    "    idxs_train = int(percentage * lendata)\n",
    "    idxs_test = idxs_train + 1 \n",
    "    return idxs_train, idxs_test\n",
    "\n",
    "LENDATA = 36 + 6 + 4 + 1 # number of driving cycles\n",
    "np.random.seed(42)\n",
    "idxs_train, idxs_test = split_train_test(LENDATA,0.8)\n",
    "p = np.random.permutation(int(LENDATA))\n",
    "print(p)"
   ]
  },
  {
   "cell_type": "markdown",
   "metadata": {},
   "source": [
    "## Step 2: Explore the data. (15 Points)\n",
    "\n",
    "### Step 2.1: Data visualisation. (5 points)\n",
    "\n",
    "- Plot data distribution, i.e. the number of samples per class.\n",
    "- Plot 1 sample from each of the five classes in the training set."
   ]
  },
  {
   "cell_type": "code",
   "execution_count": 91,
   "metadata": {},
   "outputs": [
    {
     "data": {
      "image/png": "[encoded data removed]",
      "text/plain": [
       "<Figure size 432x288 with 1 Axes>"
      ]
     },
     "metadata": {
      "needs_background": "light"
     },
     "output_type": "display_data"
    }
   ],
   "source": [
    "# Training set\n",
    "img_path = './DrivingCycles/'\n",
    "dataset  = DrivingCyclesDataset(img_path, idxs_train, idxs_test, None, img_size=128, train=True)\n",
    "\n",
    "# # Plot the number of samples \n",
    "# #### ADD YOUR CODE HERE ####\n",
    "# dict = {}\n",
    "# for folder in dc_folders:\n",
    "#     dict[dc_folders] = dict.get(dc_folders,0)+1\n",
    "\n",
    "# keys = list(dict.keys())\n",
    "# values = list(dict.values())\n",
    "\n",
    "# def addlabels(x,y):\n",
    "#     for i in range(len(x)):\n",
    "#         plt.text(i, y[i]//2, y[i], ha = 'center')\n",
    "\n",
    "# plt.figure(figsize = (10,5))\n",
    "# plt.bar(range(len(dict)), values, tick_label=keys)\n",
    "# addlabels(keys,values)\n",
    "# plt.title(\"Plot of Number of Samples per Class\")\n",
    "# plt.xlabel(\"Class\")\n",
    "# plt.ylabel(\"Number of Samples\")\n",
    "# plt.show() \n",
    "\n",
    "# Plot 1 sample from the training set\n",
    "#### ADD YOUR CODE HERE ####\n",
    "sample = dataset.data[0]\n",
    "plt.title(\"WLTP Extended Driving Cycle\")\n",
    "plt.xlabel(\"Time\")\n",
    "plt.ylabel(\"Velocity (km/h)\")\n",
    "plt.plot(sample['V_z'])\n",
    "plt.show()"
   ]
  },
  {
   "cell_type": "markdown",
   "metadata": {},
   "source": [
    "## Step 3: Multiclass classification. (55 points)\n",
    "In this section we will try to make a multiclass classifier to determine the species of the fish.\n",
    "\n",
    "### Step 3.1: Define the model. (15 points)\n",
    "\n",
    "Design a neural network which consists of a number of convolutional layers and a few fully connected ones at the end.\n",
    "\n",
    "The exact architecture is up to you but you do NOT need to create something complicated. For example, you could design a LeNet insprired network."
   ]
  },
  {
   "cell_type": "code",
   "execution_count": null,
   "metadata": {},
   "outputs": [],
   "source": [
    "class Net(nn.Module):\n",
    "    def __init__(self, output_dims = 1):\n",
    "        super(Net, self).__init__()\n",
    "        #### ADD YOUR CODE HERE ####\n",
    "        self.output_dims = output_dims\n",
    "        self.fc1   = nn.Linear(16*5*5, 120)\n",
    "        self.fc2   = nn.Linear(120, 84)\n",
    "        self.fc3   = nn.Linear(84, 5)\n",
    "        \n",
    "    def forward(self, x):\n",
    "        # Forward propagation\n",
    "        #### ADD YOUR CODE HERE ####\n",
    "        x = F.relu(self.fc1(x))\n",
    "        x = F.relu(self.fc2(x))\n",
    "        x = self.fc3(x)\n",
    "        return x"
   ]
  },
  {
   "cell_type": "markdown",
   "metadata": {},
   "source": [
    "### Step 3.2: Define the training parameters. (10 points)\n",
    "\n",
    "- Loss function\n",
    "- Optimizer\n",
    "- Learning Rate\n",
    "- Number of iterations\n",
    "- Batch Size\n",
    "- Other relevant hyperparameters"
   ]
  },
  {
   "cell_type": "code",
   "execution_count": null,
   "metadata": {},
   "outputs": [],
   "source": [
    "# Network\n",
    "model = Net()\n",
    "\n",
    "# Loss function\n",
    "criterion = nn.CrossEntropyLoss()\n",
    "\n",
    "# Optimiser and learning rate\n",
    "lr = 0.001 \n",
    "optimizer = torch.optim.Adam(model.parameters(), lr) \n",
    "\n",
    "# Number of iterations for training\n",
    "epochs = 20\n",
    "\n",
    "# Training batch size\n",
    "train_batch_size = 25\n",
    "\n",
    "# Based on the FishDataset, use the PyTorch DataLoader to load the data during model training\n",
    "img_path = './Fish_Dataset/'\n",
    "train_dataset = FishDataset(img_path, idxs_train, idxs_test, None, img_size=28, train=True)\n",
    "train_dataloader = DataLoader(train_dataset, batch_size = train_batch_size)\n",
    "test_dataset = FishDataset(img_path, idxs_train, idxs_test, None, img_size=28, train=False)\n",
    "test_dataloader = DataLoader(test_dataset)"
   ]
  },
  {
   "cell_type": "markdown",
   "metadata": {},
   "source": [
    "### Step 3.3: Train the model. (15 points)\n",
    "\n",
    "Complete the training loop."
   ]
  },
  {
   "cell_type": "code",
   "execution_count": null,
   "metadata": {},
   "outputs": [],
   "source": [
    "for epoch in tqdm(range(epochs)):\n",
    "    model.train()\n",
    "    loss_curve = []\n",
    "    \n",
    "    for imgs, labs in train_dataloader:\n",
    "        # Get a batch of training data and train the model\n",
    "        #### ADD YOUR CODE HERE ####\n",
    "        imgs, labs = imgs.to(device), labs.to(device)\n",
    "        optimizer.zero_grad()\n",
    "        output = model.forward(imgs)\n",
    "        loss = criterion(output, labs)\n",
    "        loss.backward()\n",
    "        optimizer.step()\n",
    "        \n",
    "        loss_curve += [loss.item()]\n",
    "    print('--- Iteration {0}: training loss = {1:.4f} ---'.format(epoch + 1, np.array(loss_curve).mean()))"
   ]
  }
 ],
 "metadata": {
  "interpreter": {
   "hash": "aee8b7b246df8f9039afb4144a1f6fd8d2ca17a180786b69acc140d282b71a49"
  },
  "kernelspec": {
   "display_name": "Python 3.9.6 64-bit",
   "language": "python",
   "name": "python3"
  },
  "language_info": {
   "codemirror_mode": {
    "name": "ipython",
    "version": 3
   },
   "file_extension": ".py",
   "mimetype": "text/x-python",
   "name": "python",
   "nbconvert_exporter": "python",
   "pygments_lexer": "ipython3",
   "version": "3.9.6"
  },
  "orig_nbformat": 4
 },
 "nbformat": 4,
 "nbformat_minor": 2
}
